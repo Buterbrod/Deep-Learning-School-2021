{
  "nbformat": 4,
  "nbformat_minor": 0,
  "metadata": {
    "kernelspec": {
      "display_name": "Python 3",
      "language": "python",
      "name": "python3"
    },
    "language_info": {
      "codemirror_mode": {
        "name": "ipython",
        "version": 3
      },
      "file_extension": ".py",
      "mimetype": "text/x-python",
      "name": "python",
      "nbconvert_exporter": "python",
      "pygments_lexer": "ipython3",
      "version": "3.7.4"
    },
    "colab": {
      "name": "baseline.ipynb",
      "provenance": [],
      "collapsed_sections": [
        "LIp6BwE9dzKV",
        "xFAEZx_gkLwO",
        "dK370bPCEEZD"
      ],
      "include_colab_link": true
    },
    "widgets": {
      "application/vnd.jupyter.widget-state+json": {
        "d4e8d2e8f3e240f5927f3b97d6695e43": {
          "model_module": "@jupyter-widgets/controls",
          "model_name": "HBoxModel",
          "model_module_version": "1.5.0",
          "state": {
            "_view_name": "HBoxView",
            "_dom_classes": [],
            "_model_name": "HBoxModel",
            "_view_module": "@jupyter-widgets/controls",
            "_model_module_version": "1.5.0",
            "_view_count": null,
            "_view_module_version": "1.5.0",
            "box_style": "",
            "layout": "IPY_MODEL_1a5446bd784f47c4a3c8c4727fa9b6a3",
            "_model_module": "@jupyter-widgets/controls",
            "children": [
              "IPY_MODEL_bda9f3cb9dfb44d49b5ac2baae83badb",
              "IPY_MODEL_af9addbbb00c43d7a7f0178d4a2e50be",
              "IPY_MODEL_014866cfd7de40ae98cd5ed55c41137a"
            ]
          }
        },
        "1a5446bd784f47c4a3c8c4727fa9b6a3": {
          "model_module": "@jupyter-widgets/base",
          "model_name": "LayoutModel",
          "model_module_version": "1.2.0",
          "state": {
            "_view_name": "LayoutView",
            "grid_template_rows": null,
            "right": null,
            "justify_content": null,
            "_view_module": "@jupyter-widgets/base",
            "overflow": null,
            "_model_module_version": "1.2.0",
            "_view_count": null,
            "flex_flow": null,
            "width": null,
            "min_width": null,
            "border": null,
            "align_items": null,
            "bottom": null,
            "_model_module": "@jupyter-widgets/base",
            "top": null,
            "grid_column": null,
            "overflow_y": null,
            "overflow_x": null,
            "grid_auto_flow": null,
            "grid_area": null,
            "grid_template_columns": null,
            "flex": null,
            "_model_name": "LayoutModel",
            "justify_items": null,
            "grid_row": null,
            "max_height": null,
            "align_content": null,
            "visibility": null,
            "align_self": null,
            "height": null,
            "min_height": null,
            "padding": null,
            "grid_auto_rows": null,
            "grid_gap": null,
            "max_width": null,
            "order": null,
            "_view_module_version": "1.2.0",
            "grid_template_areas": null,
            "object_position": null,
            "object_fit": null,
            "grid_auto_columns": null,
            "margin": null,
            "display": null,
            "left": null
          }
        },
        "bda9f3cb9dfb44d49b5ac2baae83badb": {
          "model_module": "@jupyter-widgets/controls",
          "model_name": "HTMLModel",
          "model_module_version": "1.5.0",
          "state": {
            "_view_name": "HTMLView",
            "style": "IPY_MODEL_973d5611765a4fb9b588c87f3725ebf3",
            "_dom_classes": [],
            "description": "",
            "_model_name": "HTMLModel",
            "placeholder": "​",
            "_view_module": "@jupyter-widgets/controls",
            "_model_module_version": "1.5.0",
            "value": "100%",
            "_view_count": null,
            "_view_module_version": "1.5.0",
            "description_tooltip": null,
            "_model_module": "@jupyter-widgets/controls",
            "layout": "IPY_MODEL_de9962a59d274536bc4240f5741532c8"
          }
        },
        "af9addbbb00c43d7a7f0178d4a2e50be": {
          "model_module": "@jupyter-widgets/controls",
          "model_name": "FloatProgressModel",
          "model_module_version": "1.5.0",
          "state": {
            "_view_name": "ProgressView",
            "style": "IPY_MODEL_16103162cb1045978f001c16176b8fba",
            "_dom_classes": [],
            "description": "",
            "_model_name": "FloatProgressModel",
            "bar_style": "success",
            "max": 5,
            "_view_module": "@jupyter-widgets/controls",
            "_model_module_version": "1.5.0",
            "value": 5,
            "_view_count": null,
            "_view_module_version": "1.5.0",
            "orientation": "horizontal",
            "min": 0,
            "description_tooltip": null,
            "_model_module": "@jupyter-widgets/controls",
            "layout": "IPY_MODEL_14b66da28f9346fe8f25de84257a98a7"
          }
        },
        "014866cfd7de40ae98cd5ed55c41137a": {
          "model_module": "@jupyter-widgets/controls",
          "model_name": "HTMLModel",
          "model_module_version": "1.5.0",
          "state": {
            "_view_name": "HTMLView",
            "style": "IPY_MODEL_3fb629dbce0040d3b9638da9bb592dfd",
            "_dom_classes": [],
            "description": "",
            "_model_name": "HTMLModel",
            "placeholder": "​",
            "_view_module": "@jupyter-widgets/controls",
            "_model_module_version": "1.5.0",
            "value": " 5/5 [00:08&lt;00:00,  1.66s/it]",
            "_view_count": null,
            "_view_module_version": "1.5.0",
            "description_tooltip": null,
            "_model_module": "@jupyter-widgets/controls",
            "layout": "IPY_MODEL_0197e3ac7869460a844165e41c63748f"
          }
        },
        "973d5611765a4fb9b588c87f3725ebf3": {
          "model_module": "@jupyter-widgets/controls",
          "model_name": "DescriptionStyleModel",
          "model_module_version": "1.5.0",
          "state": {
            "_view_name": "StyleView",
            "_model_name": "DescriptionStyleModel",
            "description_width": "",
            "_view_module": "@jupyter-widgets/base",
            "_model_module_version": "1.5.0",
            "_view_count": null,
            "_view_module_version": "1.2.0",
            "_model_module": "@jupyter-widgets/controls"
          }
        },
        "de9962a59d274536bc4240f5741532c8": {
          "model_module": "@jupyter-widgets/base",
          "model_name": "LayoutModel",
          "model_module_version": "1.2.0",
          "state": {
            "_view_name": "LayoutView",
            "grid_template_rows": null,
            "right": null,
            "justify_content": null,
            "_view_module": "@jupyter-widgets/base",
            "overflow": null,
            "_model_module_version": "1.2.0",
            "_view_count": null,
            "flex_flow": null,
            "width": null,
            "min_width": null,
            "border": null,
            "align_items": null,
            "bottom": null,
            "_model_module": "@jupyter-widgets/base",
            "top": null,
            "grid_column": null,
            "overflow_y": null,
            "overflow_x": null,
            "grid_auto_flow": null,
            "grid_area": null,
            "grid_template_columns": null,
            "flex": null,
            "_model_name": "LayoutModel",
            "justify_items": null,
            "grid_row": null,
            "max_height": null,
            "align_content": null,
            "visibility": null,
            "align_self": null,
            "height": null,
            "min_height": null,
            "padding": null,
            "grid_auto_rows": null,
            "grid_gap": null,
            "max_width": null,
            "order": null,
            "_view_module_version": "1.2.0",
            "grid_template_areas": null,
            "object_position": null,
            "object_fit": null,
            "grid_auto_columns": null,
            "margin": null,
            "display": null,
            "left": null
          }
        },
        "16103162cb1045978f001c16176b8fba": {
          "model_module": "@jupyter-widgets/controls",
          "model_name": "ProgressStyleModel",
          "model_module_version": "1.5.0",
          "state": {
            "_view_name": "StyleView",
            "_model_name": "ProgressStyleModel",
            "description_width": "",
            "_view_module": "@jupyter-widgets/base",
            "_model_module_version": "1.5.0",
            "_view_count": null,
            "_view_module_version": "1.2.0",
            "bar_color": null,
            "_model_module": "@jupyter-widgets/controls"
          }
        },
        "14b66da28f9346fe8f25de84257a98a7": {
          "model_module": "@jupyter-widgets/base",
          "model_name": "LayoutModel",
          "model_module_version": "1.2.0",
          "state": {
            "_view_name": "LayoutView",
            "grid_template_rows": null,
            "right": null,
            "justify_content": null,
            "_view_module": "@jupyter-widgets/base",
            "overflow": null,
            "_model_module_version": "1.2.0",
            "_view_count": null,
            "flex_flow": null,
            "width": null,
            "min_width": null,
            "border": null,
            "align_items": null,
            "bottom": null,
            "_model_module": "@jupyter-widgets/base",
            "top": null,
            "grid_column": null,
            "overflow_y": null,
            "overflow_x": null,
            "grid_auto_flow": null,
            "grid_area": null,
            "grid_template_columns": null,
            "flex": null,
            "_model_name": "LayoutModel",
            "justify_items": null,
            "grid_row": null,
            "max_height": null,
            "align_content": null,
            "visibility": null,
            "align_self": null,
            "height": null,
            "min_height": null,
            "padding": null,
            "grid_auto_rows": null,
            "grid_gap": null,
            "max_width": null,
            "order": null,
            "_view_module_version": "1.2.0",
            "grid_template_areas": null,
            "object_position": null,
            "object_fit": null,
            "grid_auto_columns": null,
            "margin": null,
            "display": null,
            "left": null
          }
        },
        "3fb629dbce0040d3b9638da9bb592dfd": {
          "model_module": "@jupyter-widgets/controls",
          "model_name": "DescriptionStyleModel",
          "model_module_version": "1.5.0",
          "state": {
            "_view_name": "StyleView",
            "_model_name": "DescriptionStyleModel",
            "description_width": "",
            "_view_module": "@jupyter-widgets/base",
            "_model_module_version": "1.5.0",
            "_view_count": null,
            "_view_module_version": "1.2.0",
            "_model_module": "@jupyter-widgets/controls"
          }
        },
        "0197e3ac7869460a844165e41c63748f": {
          "model_module": "@jupyter-widgets/base",
          "model_name": "LayoutModel",
          "model_module_version": "1.2.0",
          "state": {
            "_view_name": "LayoutView",
            "grid_template_rows": null,
            "right": null,
            "justify_content": null,
            "_view_module": "@jupyter-widgets/base",
            "overflow": null,
            "_model_module_version": "1.2.0",
            "_view_count": null,
            "flex_flow": null,
            "width": null,
            "min_width": null,
            "border": null,
            "align_items": null,
            "bottom": null,
            "_model_module": "@jupyter-widgets/base",
            "top": null,
            "grid_column": null,
            "overflow_y": null,
            "overflow_x": null,
            "grid_auto_flow": null,
            "grid_area": null,
            "grid_template_columns": null,
            "flex": null,
            "_model_name": "LayoutModel",
            "justify_items": null,
            "grid_row": null,
            "max_height": null,
            "align_content": null,
            "visibility": null,
            "align_self": null,
            "height": null,
            "min_height": null,
            "padding": null,
            "grid_auto_rows": null,
            "grid_gap": null,
            "max_width": null,
            "order": null,
            "_view_module_version": "1.2.0",
            "grid_template_areas": null,
            "object_position": null,
            "object_fit": null,
            "grid_auto_columns": null,
            "margin": null,
            "display": null,
            "left": null
          }
        }
      }
    }
  },
  "cells": [
    {
      "cell_type": "markdown",
      "metadata": {
        "id": "view-in-github",
        "colab_type": "text"
      },
      "source": [
        "<a href=\"https://colab.research.google.com/github/Buterbrod/Deep-Learning-School-2021/blob/main/baseline.ipynb\" target=\"_parent\"><img src=\"https://colab.research.google.com/assets/colab-badge.svg\" alt=\"Open In Colab\"/></a>"
      ]
    },
    {
      "cell_type": "markdown",
      "metadata": {
        "id": "TK7oX5qdEEYr"
      },
      "source": [
        "<p style=\"align: center;\"><img align=center src=\"https://s8.hostingkartinok.com/uploads/images/2018/08/308b49fcfbc619d629fe4604bceb67ac.jpg\" width=500 height=450/></p>\n",
        "\n",
        "<h3 style=\"text-align: center;\"><b>Школа глубокого обучения ФПМИ МФТИ</b></h3>\n",
        "\n",
        "<h3 style=\"text-align: center;\"><b>Домашнее задание. Продвинутый поток. Весна 2021</b></h3>\n",
        "\n",
        "Это домашнее задание будет посвящено полноценному решению задачи машинного обучения."
      ]
    },
    {
      "cell_type": "markdown",
      "metadata": {
        "id": "zlB-owfaEEYs"
      },
      "source": [
        "Есть две части этого домашнего задания: \n",
        "* Сделать полноценный отчет о вашей работе: как вы обработали данные, какие модели попробовали и какие результаты получились (максимум 10 баллов). За каждую выполненную часть будет начислено определенное количество баллов.\n",
        "* Лучшее решение отправить в соревнование на [kaggle](https://www.kaggle.com/c/advanced-dls-spring-2021/) (максимум 5 баллов). За прохождение определенного порогов будут начисляться баллы.\n",
        "\n",
        "\n",
        "**Обе части будут проверяться в формате peer-review. Т.е. вашу посылку на степик будут проверять несколько других студентов и аггрегация их оценок будет выставлена. В то же время вам тоже нужно будет проверить несколько других учеников.**\n",
        "\n",
        "**Пожалуйста, делайте свою работу чистой и понятной, чтобы облегчить проверку. Если у вас будут проблемы с решением или хочется совета, то пишите в наш чат в телеграме или в лс @runfme. Если вы захотите проаппелировать оценку, то пипшите в лс @runfme.**\n",
        "\n",
        "**Во всех пунктах указания это минимальный набор вещей, которые стоит сделать. Если вы можете сделать какой-то шаг лучше или добавить что-то свое - дерзайте!**"
      ]
    },
    {
      "cell_type": "markdown",
      "metadata": {
        "id": "Tu_JvqcBEN8Y"
      },
      "source": [
        "# Как проверять?\n",
        "\n",
        "Ставьте полный балл, если выполнены все рекомендации или сделано что-то более интересное и сложное. За каждый отсустствующий пункт из рекомендация снижайте 1 балл."
      ]
    },
    {
      "cell_type": "markdown",
      "metadata": {
        "id": "ninJ63mJEEYt"
      },
      "source": [
        "# Метрика\n",
        "\n",
        "Перед решением любой задачи важно понимать, как будет оцениваться ваше решение. В данном случае мы используем стандартную для задачи классификации метрику ROC-AUC. Ее можно вычислить используя только предсказанные вероятности и истинные классы без конкретного порога классификации + она раотает даже если классы в данных сильно несбалансированны (примеров одного класса в десятки раз больше примеров длугого). Именно поэтому она очень удобна для соревнований.\n",
        "\n",
        "Посчитать ее легко:\n"
      ]
    },
    {
      "cell_type": "code",
      "metadata": {
        "id": "SQIrka7yEEYu",
        "colab": {
          "base_uri": "https://localhost:8080/"
        },
        "outputId": "555772c7-817c-4737-c3d8-8c284806f9c4"
      },
      "source": [
        "from sklearn.metrics import roc_auc_score\n",
        "\n",
        "y_true = [\n",
        "    0,\n",
        "    1,\n",
        "    1,\n",
        "    0,\n",
        "    1\n",
        "]\n",
        "\n",
        "y_predictions = [\n",
        "    0.1,\n",
        "    0.9,\n",
        "    0.4,\n",
        "    0.6,\n",
        "    0.61\n",
        "]\n",
        "\n",
        "roc_auc_score(y_true, y_predictions)"
      ],
      "execution_count": null,
      "outputs": [
        {
          "output_type": "execute_result",
          "data": {
            "text/plain": [
              "0.8333333333333333"
            ]
          },
          "metadata": {},
          "execution_count": 194
        }
      ]
    },
    {
      "cell_type": "markdown",
      "metadata": {
        "id": "IrDNNkNTEEYz"
      },
      "source": [
        "# Первая часть. Исследование"
      ]
    },
    {
      "cell_type": "code",
      "metadata": {
        "id": "lzLqEeZKEEYz"
      },
      "source": [
        "import pandas as pd\n",
        "import numpy as np\n",
        "from matplotlib import pyplot as plt"
      ],
      "execution_count": null,
      "outputs": []
    },
    {
      "cell_type": "markdown",
      "metadata": {
        "id": "LOlxdURSEEY3"
      },
      "source": [
        "## Загрузка данных (2 балла)\n",
        "\n",
        "1) Посмотрите на случайные строчки. \n",
        "\n",
        "2) Посмотрите, есть ли в датасете незаполненные значения (nan'ы) с помощью data.isna() или data.info() и, если нужно, замените их на что-то. Будет хорошо, если вы построите табличку с количеством nan в каждой колонке."
      ]
    },
    {
      "cell_type": "markdown",
      "metadata": {
        "id": "LIp6BwE9dzKV"
      },
      "source": [
        "### Личная вставка. Подключить Kaggle к Colab и забрать файлы соревнования\n",
        "\n"
      ]
    },
    {
      "cell_type": "markdown",
      "metadata": {
        "id": "kTyBvvK8jThF"
      },
      "source": [
        "**Предварительные шаги:**\n",
        "- зайти на https://www.kaggle.com\n",
        "- войти в account\n",
        "- API, Create New API Token\n",
        "- сохранить JSON на диск для дальнейшего подключения"
      ]
    },
    {
      "cell_type": "markdown",
      "metadata": {
        "id": "Md3sKkffqeQC"
      },
      "source": [
        "Документация:\n",
        "- [kaggle-api](https://github.com/Kaggle/kaggle-api)\n",
        "- [инструкция из интернета](https://askdev.ru/q/ispolzovanie-naborov-dannyh-kaggle-v-google-colab-581252)"
      ]
    },
    {
      "cell_type": "markdown",
      "metadata": {
        "id": "ULtl_oyHpz1j"
      },
      "source": [
        "**Предварительные шаги:**\n",
        "- зайти на https://www.kaggle.com\n",
        "- войти в account\n",
        "- API, Create New API Token\n",
        "- сохранить JSON на диск для дальнейшего подключения"
      ]
    },
    {
      "cell_type": "code",
      "metadata": {
        "colab": {
          "resources": {
            "http://localhost:8080/nbextensions/google.colab/files.js": {
              "data": "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",
              "ok": true,
              "headers": [
                [
                  "content-type",
                  "application/javascript"
                ]
              ],
              "status": 200,
              "status_text": ""
            }
          },
          "base_uri": "https://localhost:8080/",
          "height": 72
        },
        "id": "3Y4-oLIad7gb",
        "outputId": "98e0bc66-8039-4fa1-8e23-a265dfe08518"
      },
      "source": [
        "# Запустить и выбрать kaggle.json, ранее выгруженный файл с Kaggle account страницы\n",
        "from google.colab import files\n",
        "files.upload()\n",
        "None"
      ],
      "execution_count": null,
      "outputs": [
        {
          "output_type": "display_data",
          "data": {
            "text/html": [
              "\n",
              "     <input type=\"file\" id=\"files-199b2ff2-84b2-41e7-8d03-8ffdc7551b54\" name=\"files[]\" multiple disabled\n",
              "        style=\"border:none\" />\n",
              "     <output id=\"result-199b2ff2-84b2-41e7-8d03-8ffdc7551b54\">\n",
              "      Upload widget is only available when the cell has been executed in the\n",
              "      current browser session. Please rerun this cell to enable.\n",
              "      </output>\n",
              "      <script src=\"/nbextensions/google.colab/files.js\"></script> "
            ],
            "text/plain": [
              "<IPython.core.display.HTML object>"
            ]
          },
          "metadata": {}
        },
        {
          "output_type": "stream",
          "name": "stdout",
          "text": [
            "Saving kaggle.json to kaggle.json\n"
          ]
        }
      ]
    },
    {
      "cell_type": "code",
      "metadata": {
        "colab": {
          "base_uri": "https://localhost:8080/"
        },
        "id": "ty4YCGfRg0K5",
        "outputId": "128aab76-2107-4f3e-e360-e93d29afed9b"
      },
      "source": [
        "# Убедимся, что kaggle.json файл загрузился\n",
        "!ls -lha kaggle.json"
      ],
      "execution_count": null,
      "outputs": [
        {
          "output_type": "stream",
          "name": "stdout",
          "text": [
            "-rw-r--r-- 1 root root 64 Oct 13 20:26 kaggle.json\n"
          ]
        }
      ]
    },
    {
      "cell_type": "code",
      "metadata": {
        "id": "gShFSQNpgIS5"
      },
      "source": [
        "# Установим клиент Kaggle API\n",
        "!pip install -q kaggle"
      ],
      "execution_count": null,
      "outputs": []
    },
    {
      "cell_type": "code",
      "metadata": {
        "id": "-8Sj00A_gSQ7"
      },
      "source": [
        "# Клиент Kaggle API ожидает файл kaggle.json в ~/.kaggle\n",
        "# Переместим его туда\n",
        "!mkdir -p ~/.kaggle\n",
        "!cp kaggle.json ~/.kaggle/\n",
        "\n",
        "# Включим warning для Kaggle tool startup\n",
        "!chmod 600 ~/.kaggle/kaggle.json"
      ],
      "execution_count": null,
      "outputs": []
    },
    {
      "cell_type": "code",
      "metadata": {
        "colab": {
          "base_uri": "https://localhost:8080/"
        },
        "id": "mneRug6yiEzC",
        "outputId": "dda58bea-a65e-4544-bd1f-0ec364468789"
      },
      "source": [
        "# Выведем список файлов соревнования advanced-dls-spring-2021\n",
        "!kaggle competitions files advanced-dls-spring-2021"
      ],
      "execution_count": null,
      "outputs": [
        {
          "output_type": "stream",
          "name": "stdout",
          "text": [
            "Warning: Looks like you're using an outdated API Version, please consider updating (server 1.5.12 / client 1.5.4)\n",
            "name             size  creationDate         \n",
            "--------------  -----  -------------------  \n",
            "test.csv        213KB  2021-03-03 13:03:16  \n",
            "submission.csv   14KB  2021-03-03 13:03:16  \n",
            "train.csv       648KB  2021-03-03 13:03:16  \n"
          ]
        }
      ]
    },
    {
      "cell_type": "code",
      "metadata": {
        "colab": {
          "base_uri": "https://localhost:8080/"
        },
        "id": "FksVZooIiWQP",
        "outputId": "375241d2-5424-4784-a02e-781427db3cd5"
      },
      "source": [
        "# Загрузим все данные по соревнованию с Kaggle на Colab\n",
        "!kaggle competitions download -p /data/advanced-dls-spring-2021 --force advanced-dls-spring-2021"
      ],
      "execution_count": null,
      "outputs": [
        {
          "output_type": "stream",
          "name": "stdout",
          "text": [
            "Warning: Looks like you're using an outdated API Version, please consider updating (server 1.5.12 / client 1.5.4)\n",
            "Downloading test.csv to /data/advanced-dls-spring-2021\n",
            "  0% 0.00/213k [00:00<?, ?B/s]\n",
            "100% 213k/213k [00:00<00:00, 78.9MB/s]\n",
            "Downloading submission.csv to /data/advanced-dls-spring-2021\n",
            "  0% 0.00/14.4k [00:00<?, ?B/s]\n",
            "100% 14.4k/14.4k [00:00<00:00, 12.6MB/s]\n",
            "Downloading train.csv to /data/advanced-dls-spring-2021\n",
            "  0% 0.00/648k [00:00<?, ?B/s]\n",
            "100% 648k/648k [00:00<00:00, 92.1MB/s]\n"
          ]
        }
      ]
    },
    {
      "cell_type": "code",
      "metadata": {
        "colab": {
          "base_uri": "https://localhost:8080/"
        },
        "id": "jjcKPvbHkpbf",
        "outputId": "f34755d8-4abf-4618-8046-947178ce92b6"
      },
      "source": [
        "# Выведем список загруженных файлов\n",
        "!ls /data/advanced-dls-spring-2021"
      ],
      "execution_count": null,
      "outputs": [
        {
          "output_type": "stream",
          "name": "stdout",
          "text": [
            "submission.csv\ttest.csv  train.csv\n"
          ]
        }
      ]
    },
    {
      "cell_type": "markdown",
      "metadata": {
        "id": "xFAEZx_gkLwO"
      },
      "source": [
        "### Код задания"
      ]
    },
    {
      "cell_type": "code",
      "metadata": {
        "id": "pw-Brue9EEY3"
      },
      "source": [
        "# data = pd.read_csv('./train.csv')\n",
        "\n",
        "data = pd.read_csv('/data/advanced-dls-spring-2021/train.csv')\n",
        "test = pd.read_csv('/data/advanced-dls-spring-2021/test.csv')"
      ],
      "execution_count": null,
      "outputs": []
    },
    {
      "cell_type": "code",
      "metadata": {
        "id": "KgnkkF5bEEY9"
      },
      "source": [
        "# Для вашего удобства списки с именами разных колонок\n",
        "\n",
        "# Числовые признаки\n",
        "num_cols = [\n",
        "    'ClientPeriod',\n",
        "    'MonthlySpending',\n",
        "    'TotalSpent'\n",
        "]\n",
        "\n",
        "# Категориальные признаки\n",
        "cat_cols = [\n",
        "    'Sex',\n",
        "    'IsSeniorCitizen',\n",
        "    'HasPartner',\n",
        "    'HasChild',\n",
        "    'HasPhoneService',\n",
        "    'HasMultiplePhoneNumbers',\n",
        "    'HasInternetService',\n",
        "    'HasOnlineSecurityService',\n",
        "    'HasOnlineBackup',\n",
        "    'HasDeviceProtection',\n",
        "    'HasTechSupportAccess',\n",
        "    'HasOnlineTV',\n",
        "    'HasMovieSubscription',\n",
        "    'HasContractPhone',\n",
        "    'IsBillingPaperless',\n",
        "    'PaymentMethod'\n",
        "]\n",
        "\n",
        "feature_cols = num_cols + cat_cols\n",
        "target_col = 'Churn'"
      ],
      "execution_count": null,
      "outputs": []
    },
    {
      "cell_type": "code",
      "metadata": {
        "id": "WBqwkXjrrmux"
      },
      "source": [
        "# -------------------------------------------------------\n",
        "# YOUR CODE\n",
        "# -------------------------------------------------------"
      ],
      "execution_count": null,
      "outputs": []
    },
    {
      "cell_type": "code",
      "metadata": {
        "id": "tHC6gWabEEZA",
        "colab": {
          "base_uri": "https://localhost:8080/",
          "height": 309
        },
        "outputId": "9059cf67-87d2-4b7a-d561-0a9637ac46c4"
      },
      "source": [
        "# -------------------------------------------------------\n",
        "# 1) Посмотрите на случайные строчки.\n",
        "# -------------------------------------------------------\n",
        "import random\n",
        "\n",
        "# задать количество выбираемых строк\n",
        "NUM_ROWS = 5\n",
        "\n",
        "# получить отсортированный список случайных идентификаторов строк\n",
        "rows = [random.randint(0, data.shape[0]) for i in range(NUM_ROWS)]\n",
        "rows.sort()\n",
        "\n",
        "# отобразить строки\n",
        "data.take(rows)"
      ],
      "execution_count": null,
      "outputs": [
        {
          "output_type": "execute_result",
          "data": {
            "text/html": [
              "<div>\n",
              "<style scoped>\n",
              "    .dataframe tbody tr th:only-of-type {\n",
              "        vertical-align: middle;\n",
              "    }\n",
              "\n",
              "    .dataframe tbody tr th {\n",
              "        vertical-align: top;\n",
              "    }\n",
              "\n",
              "    .dataframe thead th {\n",
              "        text-align: right;\n",
              "    }\n",
              "</style>\n",
              "<table border=\"1\" class=\"dataframe\">\n",
              "  <thead>\n",
              "    <tr style=\"text-align: right;\">\n",
              "      <th></th>\n",
              "      <th>ClientPeriod</th>\n",
              "      <th>MonthlySpending</th>\n",
              "      <th>TotalSpent</th>\n",
              "      <th>Sex</th>\n",
              "      <th>IsSeniorCitizen</th>\n",
              "      <th>HasPartner</th>\n",
              "      <th>HasChild</th>\n",
              "      <th>HasPhoneService</th>\n",
              "      <th>HasMultiplePhoneNumbers</th>\n",
              "      <th>HasInternetService</th>\n",
              "      <th>HasOnlineSecurityService</th>\n",
              "      <th>HasOnlineBackup</th>\n",
              "      <th>HasDeviceProtection</th>\n",
              "      <th>HasTechSupportAccess</th>\n",
              "      <th>HasOnlineTV</th>\n",
              "      <th>HasMovieSubscription</th>\n",
              "      <th>HasContractPhone</th>\n",
              "      <th>IsBillingPaperless</th>\n",
              "      <th>PaymentMethod</th>\n",
              "      <th>Churn</th>\n",
              "    </tr>\n",
              "  </thead>\n",
              "  <tbody>\n",
              "    <tr>\n",
              "      <th>188</th>\n",
              "      <td>1</td>\n",
              "      <td>44.35</td>\n",
              "      <td>44.35</td>\n",
              "      <td>Female</td>\n",
              "      <td>0</td>\n",
              "      <td>Yes</td>\n",
              "      <td>Yes</td>\n",
              "      <td>Yes</td>\n",
              "      <td>No</td>\n",
              "      <td>DSL</td>\n",
              "      <td>No</td>\n",
              "      <td>No</td>\n",
              "      <td>No</td>\n",
              "      <td>No</td>\n",
              "      <td>No</td>\n",
              "      <td>No</td>\n",
              "      <td>Month-to-month</td>\n",
              "      <td>Yes</td>\n",
              "      <td>Bank transfer (automatic)</td>\n",
              "      <td>1</td>\n",
              "    </tr>\n",
              "    <tr>\n",
              "      <th>448</th>\n",
              "      <td>46</td>\n",
              "      <td>69.10</td>\n",
              "      <td>3255.35</td>\n",
              "      <td>Female</td>\n",
              "      <td>1</td>\n",
              "      <td>No</td>\n",
              "      <td>No</td>\n",
              "      <td>Yes</td>\n",
              "      <td>Yes</td>\n",
              "      <td>DSL</td>\n",
              "      <td>No</td>\n",
              "      <td>No</td>\n",
              "      <td>Yes</td>\n",
              "      <td>Yes</td>\n",
              "      <td>No</td>\n",
              "      <td>Yes</td>\n",
              "      <td>One year</td>\n",
              "      <td>Yes</td>\n",
              "      <td>Credit card (automatic)</td>\n",
              "      <td>0</td>\n",
              "    </tr>\n",
              "    <tr>\n",
              "      <th>3451</th>\n",
              "      <td>3</td>\n",
              "      <td>60.25</td>\n",
              "      <td>170.5</td>\n",
              "      <td>Female</td>\n",
              "      <td>0</td>\n",
              "      <td>No</td>\n",
              "      <td>No</td>\n",
              "      <td>Yes</td>\n",
              "      <td>Yes</td>\n",
              "      <td>DSL</td>\n",
              "      <td>No</td>\n",
              "      <td>No</td>\n",
              "      <td>No</td>\n",
              "      <td>No</td>\n",
              "      <td>Yes</td>\n",
              "      <td>No</td>\n",
              "      <td>Month-to-month</td>\n",
              "      <td>Yes</td>\n",
              "      <td>Electronic check</td>\n",
              "      <td>0</td>\n",
              "    </tr>\n",
              "    <tr>\n",
              "      <th>3569</th>\n",
              "      <td>4</td>\n",
              "      <td>80.10</td>\n",
              "      <td>336.15</td>\n",
              "      <td>Male</td>\n",
              "      <td>0</td>\n",
              "      <td>No</td>\n",
              "      <td>No</td>\n",
              "      <td>Yes</td>\n",
              "      <td>Yes</td>\n",
              "      <td>Fiber optic</td>\n",
              "      <td>Yes</td>\n",
              "      <td>No</td>\n",
              "      <td>No</td>\n",
              "      <td>No</td>\n",
              "      <td>No</td>\n",
              "      <td>No</td>\n",
              "      <td>Month-to-month</td>\n",
              "      <td>Yes</td>\n",
              "      <td>Electronic check</td>\n",
              "      <td>0</td>\n",
              "    </tr>\n",
              "    <tr>\n",
              "      <th>3767</th>\n",
              "      <td>1</td>\n",
              "      <td>19.80</td>\n",
              "      <td>19.8</td>\n",
              "      <td>Male</td>\n",
              "      <td>0</td>\n",
              "      <td>No</td>\n",
              "      <td>No</td>\n",
              "      <td>Yes</td>\n",
              "      <td>No</td>\n",
              "      <td>No</td>\n",
              "      <td>No internet service</td>\n",
              "      <td>No internet service</td>\n",
              "      <td>No internet service</td>\n",
              "      <td>No internet service</td>\n",
              "      <td>No internet service</td>\n",
              "      <td>No internet service</td>\n",
              "      <td>Month-to-month</td>\n",
              "      <td>No</td>\n",
              "      <td>Mailed check</td>\n",
              "      <td>1</td>\n",
              "    </tr>\n",
              "  </tbody>\n",
              "</table>\n",
              "</div>"
            ],
            "text/plain": [
              "      ClientPeriod  MonthlySpending  ...              PaymentMethod Churn\n",
              "188              1            44.35  ...  Bank transfer (automatic)     1\n",
              "448             46            69.10  ...    Credit card (automatic)     0\n",
              "3451             3            60.25  ...           Electronic check     0\n",
              "3569             4            80.10  ...           Electronic check     0\n",
              "3767             1            19.80  ...               Mailed check     1\n",
              "\n",
              "[5 rows x 20 columns]"
            ]
          },
          "metadata": {},
          "execution_count": 13
        }
      ]
    },
    {
      "cell_type": "code",
      "metadata": {
        "id": "Lt5AYE5X4_-p",
        "colab": {
          "base_uri": "https://localhost:8080/"
        },
        "outputId": "8640c5db-9569-4053-c136-543d73d46721"
      },
      "source": [
        "data.info()"
      ],
      "execution_count": null,
      "outputs": [
        {
          "output_type": "stream",
          "name": "stdout",
          "text": [
            "<class 'pandas.core.frame.DataFrame'>\n",
            "RangeIndex: 5282 entries, 0 to 5281\n",
            "Data columns (total 20 columns):\n",
            " #   Column                    Non-Null Count  Dtype  \n",
            "---  ------                    --------------  -----  \n",
            " 0   ClientPeriod              5282 non-null   int64  \n",
            " 1   MonthlySpending           5282 non-null   float64\n",
            " 2   TotalSpent                5282 non-null   object \n",
            " 3   Sex                       5282 non-null   object \n",
            " 4   IsSeniorCitizen           5282 non-null   int64  \n",
            " 5   HasPartner                5282 non-null   object \n",
            " 6   HasChild                  5282 non-null   object \n",
            " 7   HasPhoneService           5282 non-null   object \n",
            " 8   HasMultiplePhoneNumbers   5282 non-null   object \n",
            " 9   HasInternetService        5282 non-null   object \n",
            " 10  HasOnlineSecurityService  5282 non-null   object \n",
            " 11  HasOnlineBackup           5282 non-null   object \n",
            " 12  HasDeviceProtection       5282 non-null   object \n",
            " 13  HasTechSupportAccess      5282 non-null   object \n",
            " 14  HasOnlineTV               5282 non-null   object \n",
            " 15  HasMovieSubscription      5282 non-null   object \n",
            " 16  HasContractPhone          5282 non-null   object \n",
            " 17  IsBillingPaperless        5282 non-null   object \n",
            " 18  PaymentMethod             5282 non-null   object \n",
            " 19  Churn                     5282 non-null   int64  \n",
            "dtypes: float64(1), int64(3), object(16)\n",
            "memory usage: 825.4+ KB\n"
          ]
        }
      ]
    },
    {
      "cell_type": "code",
      "metadata": {
        "id": "rJhiR5qypr7S",
        "colab": {
          "base_uri": "https://localhost:8080/",
          "height": 142
        },
        "outputId": "410a88cb-7d7b-40ce-cd33-e1a64f274348"
      },
      "source": [
        "# -------------------------------------------------------\n",
        "# 2) Посмотрите, есть ли в датасете незаполненные значения (nan'ы) \n",
        "#    с помощью data.isna() или data.info() и, если нужно, замените их на что-то.\n",
        "#    Будет хорошо, если вы построите табличку с количеством nan в каждой колонке.\n",
        "# -------------------------------------------------------\n",
        "\n",
        "# Немного потестируем на простом примере\n",
        "# Создадим тестовый пример c None и Null значениями\n",
        "df = pd.DataFrame(\n",
        "        dict( age=[5, 6, np.NaN],\n",
        "              born=[pd.NaT, pd.Timestamp('1939-05-27'), pd.Timestamp('1940-04-25')],\n",
        "              name=['Alfred', 'Batman', ''],\n",
        "              toy=[None, 'Batmobile', 'Joker']))\n",
        "df"
      ],
      "execution_count": null,
      "outputs": [
        {
          "output_type": "execute_result",
          "data": {
            "text/html": [
              "<div>\n",
              "<style scoped>\n",
              "    .dataframe tbody tr th:only-of-type {\n",
              "        vertical-align: middle;\n",
              "    }\n",
              "\n",
              "    .dataframe tbody tr th {\n",
              "        vertical-align: top;\n",
              "    }\n",
              "\n",
              "    .dataframe thead th {\n",
              "        text-align: right;\n",
              "    }\n",
              "</style>\n",
              "<table border=\"1\" class=\"dataframe\">\n",
              "  <thead>\n",
              "    <tr style=\"text-align: right;\">\n",
              "      <th></th>\n",
              "      <th>age</th>\n",
              "      <th>born</th>\n",
              "      <th>name</th>\n",
              "      <th>toy</th>\n",
              "    </tr>\n",
              "  </thead>\n",
              "  <tbody>\n",
              "    <tr>\n",
              "      <th>0</th>\n",
              "      <td>5.0</td>\n",
              "      <td>NaT</td>\n",
              "      <td>Alfred</td>\n",
              "      <td>None</td>\n",
              "    </tr>\n",
              "    <tr>\n",
              "      <th>1</th>\n",
              "      <td>6.0</td>\n",
              "      <td>1939-05-27</td>\n",
              "      <td>Batman</td>\n",
              "      <td>Batmobile</td>\n",
              "    </tr>\n",
              "    <tr>\n",
              "      <th>2</th>\n",
              "      <td>NaN</td>\n",
              "      <td>1940-04-25</td>\n",
              "      <td></td>\n",
              "      <td>Joker</td>\n",
              "    </tr>\n",
              "  </tbody>\n",
              "</table>\n",
              "</div>"
            ],
            "text/plain": [
              "   age       born    name        toy\n",
              "0  5.0        NaT  Alfred       None\n",
              "1  6.0 1939-05-27  Batman  Batmobile\n",
              "2  NaN 1940-04-25              Joker"
            ]
          },
          "metadata": {},
          "execution_count": 15
        }
      ]
    },
    {
      "cell_type": "code",
      "metadata": {
        "id": "ZszLn9RGxY4W",
        "colab": {
          "base_uri": "https://localhost:8080/",
          "height": 142
        },
        "outputId": "9c4d4b83-5563-412e-af2a-8f7a3844fcdb"
      },
      "source": [
        "# Применим к нему isna\n",
        "df_isna = df.isna()\n",
        "df_isna"
      ],
      "execution_count": null,
      "outputs": [
        {
          "output_type": "execute_result",
          "data": {
            "text/html": [
              "<div>\n",
              "<style scoped>\n",
              "    .dataframe tbody tr th:only-of-type {\n",
              "        vertical-align: middle;\n",
              "    }\n",
              "\n",
              "    .dataframe tbody tr th {\n",
              "        vertical-align: top;\n",
              "    }\n",
              "\n",
              "    .dataframe thead th {\n",
              "        text-align: right;\n",
              "    }\n",
              "</style>\n",
              "<table border=\"1\" class=\"dataframe\">\n",
              "  <thead>\n",
              "    <tr style=\"text-align: right;\">\n",
              "      <th></th>\n",
              "      <th>age</th>\n",
              "      <th>born</th>\n",
              "      <th>name</th>\n",
              "      <th>toy</th>\n",
              "    </tr>\n",
              "  </thead>\n",
              "  <tbody>\n",
              "    <tr>\n",
              "      <th>0</th>\n",
              "      <td>False</td>\n",
              "      <td>True</td>\n",
              "      <td>False</td>\n",
              "      <td>True</td>\n",
              "    </tr>\n",
              "    <tr>\n",
              "      <th>1</th>\n",
              "      <td>False</td>\n",
              "      <td>False</td>\n",
              "      <td>False</td>\n",
              "      <td>False</td>\n",
              "    </tr>\n",
              "    <tr>\n",
              "      <th>2</th>\n",
              "      <td>True</td>\n",
              "      <td>False</td>\n",
              "      <td>False</td>\n",
              "      <td>False</td>\n",
              "    </tr>\n",
              "  </tbody>\n",
              "</table>\n",
              "</div>"
            ],
            "text/plain": [
              "     age   born   name    toy\n",
              "0  False   True  False   True\n",
              "1  False  False  False  False\n",
              "2   True  False  False  False"
            ]
          },
          "metadata": {},
          "execution_count": 16
        }
      ]
    },
    {
      "cell_type": "code",
      "metadata": {
        "id": "LMYPpJiQxq8N",
        "colab": {
          "base_uri": "https://localhost:8080/",
          "height": 190
        },
        "outputId": "b9daa7b6-02a5-4642-9459-9a8545b13b53"
      },
      "source": [
        "# Отобразим количество NaN элементов по каждому столбцу\n",
        "def retrieve_column_nan_counts(df):\n",
        "  df_isna = df.isna()\n",
        "  df_nan = pd.DataFrame(columns=['column_name', 'nan_count'])\n",
        "  for i, column_name in enumerate(df_isna.columns):\n",
        "    df_nan.loc[i] = [column_name] + [df_isna[df_isna[column_name] == True].shape[0]]\n",
        "  return df_nan\n",
        "\n",
        "df_nan = retrieve_column_nan_counts(df)\n",
        "print(\"### Total NaN counts: \" + str(df_nan['nan_count'].sum()))\n",
        "df_nan"
      ],
      "execution_count": null,
      "outputs": [
        {
          "output_type": "stream",
          "name": "stdout",
          "text": [
            "### Total NaN counts: 3\n"
          ]
        },
        {
          "output_type": "execute_result",
          "data": {
            "text/html": [
              "<div>\n",
              "<style scoped>\n",
              "    .dataframe tbody tr th:only-of-type {\n",
              "        vertical-align: middle;\n",
              "    }\n",
              "\n",
              "    .dataframe tbody tr th {\n",
              "        vertical-align: top;\n",
              "    }\n",
              "\n",
              "    .dataframe thead th {\n",
              "        text-align: right;\n",
              "    }\n",
              "</style>\n",
              "<table border=\"1\" class=\"dataframe\">\n",
              "  <thead>\n",
              "    <tr style=\"text-align: right;\">\n",
              "      <th></th>\n",
              "      <th>column_name</th>\n",
              "      <th>nan_count</th>\n",
              "    </tr>\n",
              "  </thead>\n",
              "  <tbody>\n",
              "    <tr>\n",
              "      <th>0</th>\n",
              "      <td>age</td>\n",
              "      <td>1</td>\n",
              "    </tr>\n",
              "    <tr>\n",
              "      <th>1</th>\n",
              "      <td>born</td>\n",
              "      <td>1</td>\n",
              "    </tr>\n",
              "    <tr>\n",
              "      <th>2</th>\n",
              "      <td>name</td>\n",
              "      <td>0</td>\n",
              "    </tr>\n",
              "    <tr>\n",
              "      <th>3</th>\n",
              "      <td>toy</td>\n",
              "      <td>1</td>\n",
              "    </tr>\n",
              "  </tbody>\n",
              "</table>\n",
              "</div>"
            ],
            "text/plain": [
              "  column_name nan_count\n",
              "0         age         1\n",
              "1        born         1\n",
              "2        name         0\n",
              "3         toy         1"
            ]
          },
          "metadata": {},
          "execution_count": 17
        }
      ]
    },
    {
      "cell_type": "code",
      "metadata": {
        "id": "LRNbEhX66Tno",
        "colab": {
          "base_uri": "https://localhost:8080/",
          "height": 686
        },
        "outputId": "3810a462-a31e-4017-fc84-9999b914e667"
      },
      "source": [
        "# Теперь применим её к нашим основным данным\n",
        "data_nan = retrieve_column_nan_counts(data)\n",
        "print(\"### Total NaN counts: \" + str(data_nan['nan_count'].sum()))\n",
        "data_nan"
      ],
      "execution_count": null,
      "outputs": [
        {
          "output_type": "stream",
          "name": "stdout",
          "text": [
            "### Total NaN counts: 0\n"
          ]
        },
        {
          "output_type": "execute_result",
          "data": {
            "text/html": [
              "<div>\n",
              "<style scoped>\n",
              "    .dataframe tbody tr th:only-of-type {\n",
              "        vertical-align: middle;\n",
              "    }\n",
              "\n",
              "    .dataframe tbody tr th {\n",
              "        vertical-align: top;\n",
              "    }\n",
              "\n",
              "    .dataframe thead th {\n",
              "        text-align: right;\n",
              "    }\n",
              "</style>\n",
              "<table border=\"1\" class=\"dataframe\">\n",
              "  <thead>\n",
              "    <tr style=\"text-align: right;\">\n",
              "      <th></th>\n",
              "      <th>column_name</th>\n",
              "      <th>nan_count</th>\n",
              "    </tr>\n",
              "  </thead>\n",
              "  <tbody>\n",
              "    <tr>\n",
              "      <th>0</th>\n",
              "      <td>ClientPeriod</td>\n",
              "      <td>0</td>\n",
              "    </tr>\n",
              "    <tr>\n",
              "      <th>1</th>\n",
              "      <td>MonthlySpending</td>\n",
              "      <td>0</td>\n",
              "    </tr>\n",
              "    <tr>\n",
              "      <th>2</th>\n",
              "      <td>TotalSpent</td>\n",
              "      <td>0</td>\n",
              "    </tr>\n",
              "    <tr>\n",
              "      <th>3</th>\n",
              "      <td>Sex</td>\n",
              "      <td>0</td>\n",
              "    </tr>\n",
              "    <tr>\n",
              "      <th>4</th>\n",
              "      <td>IsSeniorCitizen</td>\n",
              "      <td>0</td>\n",
              "    </tr>\n",
              "    <tr>\n",
              "      <th>5</th>\n",
              "      <td>HasPartner</td>\n",
              "      <td>0</td>\n",
              "    </tr>\n",
              "    <tr>\n",
              "      <th>6</th>\n",
              "      <td>HasChild</td>\n",
              "      <td>0</td>\n",
              "    </tr>\n",
              "    <tr>\n",
              "      <th>7</th>\n",
              "      <td>HasPhoneService</td>\n",
              "      <td>0</td>\n",
              "    </tr>\n",
              "    <tr>\n",
              "      <th>8</th>\n",
              "      <td>HasMultiplePhoneNumbers</td>\n",
              "      <td>0</td>\n",
              "    </tr>\n",
              "    <tr>\n",
              "      <th>9</th>\n",
              "      <td>HasInternetService</td>\n",
              "      <td>0</td>\n",
              "    </tr>\n",
              "    <tr>\n",
              "      <th>10</th>\n",
              "      <td>HasOnlineSecurityService</td>\n",
              "      <td>0</td>\n",
              "    </tr>\n",
              "    <tr>\n",
              "      <th>11</th>\n",
              "      <td>HasOnlineBackup</td>\n",
              "      <td>0</td>\n",
              "    </tr>\n",
              "    <tr>\n",
              "      <th>12</th>\n",
              "      <td>HasDeviceProtection</td>\n",
              "      <td>0</td>\n",
              "    </tr>\n",
              "    <tr>\n",
              "      <th>13</th>\n",
              "      <td>HasTechSupportAccess</td>\n",
              "      <td>0</td>\n",
              "    </tr>\n",
              "    <tr>\n",
              "      <th>14</th>\n",
              "      <td>HasOnlineTV</td>\n",
              "      <td>0</td>\n",
              "    </tr>\n",
              "    <tr>\n",
              "      <th>15</th>\n",
              "      <td>HasMovieSubscription</td>\n",
              "      <td>0</td>\n",
              "    </tr>\n",
              "    <tr>\n",
              "      <th>16</th>\n",
              "      <td>HasContractPhone</td>\n",
              "      <td>0</td>\n",
              "    </tr>\n",
              "    <tr>\n",
              "      <th>17</th>\n",
              "      <td>IsBillingPaperless</td>\n",
              "      <td>0</td>\n",
              "    </tr>\n",
              "    <tr>\n",
              "      <th>18</th>\n",
              "      <td>PaymentMethod</td>\n",
              "      <td>0</td>\n",
              "    </tr>\n",
              "    <tr>\n",
              "      <th>19</th>\n",
              "      <td>Churn</td>\n",
              "      <td>0</td>\n",
              "    </tr>\n",
              "  </tbody>\n",
              "</table>\n",
              "</div>"
            ],
            "text/plain": [
              "                 column_name nan_count\n",
              "0               ClientPeriod         0\n",
              "1            MonthlySpending         0\n",
              "2                 TotalSpent         0\n",
              "3                        Sex         0\n",
              "4            IsSeniorCitizen         0\n",
              "5                 HasPartner         0\n",
              "6                   HasChild         0\n",
              "7            HasPhoneService         0\n",
              "8    HasMultiplePhoneNumbers         0\n",
              "9         HasInternetService         0\n",
              "10  HasOnlineSecurityService         0\n",
              "11           HasOnlineBackup         0\n",
              "12       HasDeviceProtection         0\n",
              "13      HasTechSupportAccess         0\n",
              "14               HasOnlineTV         0\n",
              "15      HasMovieSubscription         0\n",
              "16          HasContractPhone         0\n",
              "17        IsBillingPaperless         0\n",
              "18             PaymentMethod         0\n",
              "19                     Churn         0"
            ]
          },
          "metadata": {},
          "execution_count": 18
        }
      ]
    },
    {
      "cell_type": "code",
      "metadata": {
        "id": "v7ICqlXf32ES",
        "colab": {
          "base_uri": "https://localhost:8080/"
        },
        "outputId": "4e0a0650-1895-4959-bd44-9d0ac22beae4"
      },
      "source": [
        "# NaN данных нет, что подтверждает табличка data.info\n",
        "print(\"### Всего строк в данных: \" + str(data.shape[0]))\n",
        "print(\"### Смотри стобец 'Non-Null Count' - там тоже везде \" + str(data.shape[0]) + \" строки\")\n",
        "data.info()"
      ],
      "execution_count": null,
      "outputs": [
        {
          "output_type": "stream",
          "name": "stdout",
          "text": [
            "### Всего строк в данных: 5282\n",
            "### Смотри стобец 'Non-Null Count' - там тоже везде 5282 строки\n",
            "<class 'pandas.core.frame.DataFrame'>\n",
            "RangeIndex: 5282 entries, 0 to 5281\n",
            "Data columns (total 20 columns):\n",
            " #   Column                    Non-Null Count  Dtype  \n",
            "---  ------                    --------------  -----  \n",
            " 0   ClientPeriod              5282 non-null   int64  \n",
            " 1   MonthlySpending           5282 non-null   float64\n",
            " 2   TotalSpent                5282 non-null   object \n",
            " 3   Sex                       5282 non-null   object \n",
            " 4   IsSeniorCitizen           5282 non-null   int64  \n",
            " 5   HasPartner                5282 non-null   object \n",
            " 6   HasChild                  5282 non-null   object \n",
            " 7   HasPhoneService           5282 non-null   object \n",
            " 8   HasMultiplePhoneNumbers   5282 non-null   object \n",
            " 9   HasInternetService        5282 non-null   object \n",
            " 10  HasOnlineSecurityService  5282 non-null   object \n",
            " 11  HasOnlineBackup           5282 non-null   object \n",
            " 12  HasDeviceProtection       5282 non-null   object \n",
            " 13  HasTechSupportAccess      5282 non-null   object \n",
            " 14  HasOnlineTV               5282 non-null   object \n",
            " 15  HasMovieSubscription      5282 non-null   object \n",
            " 16  HasContractPhone          5282 non-null   object \n",
            " 17  IsBillingPaperless        5282 non-null   object \n",
            " 18  PaymentMethod             5282 non-null   object \n",
            " 19  Churn                     5282 non-null   int64  \n",
            "dtypes: float64(1), int64(3), object(16)\n",
            "memory usage: 825.4+ KB\n"
          ]
        }
      ]
    },
    {
      "cell_type": "markdown",
      "metadata": {
        "id": "dK370bPCEEZD"
      },
      "source": [
        "## Анализ данных (3 балла)\n",
        "\n",
        "1) Для численных призанков постройте гистограмму (*plt.hist(...)*) или boxplot (*plt.boxplot(...)*). Для категориальных посчитайте количество каждого значения для каждого признака. Для каждой колонки надо сделать *data.value_counts()* и построить bar диаграммы *plt.bar(...)* или круговые диаграммы *plt.pie(...)* (хорошо, елси вы сможете это сделать на одном гарфике с помощью *plt.subplots(...)*). \n",
        "\n",
        "2) Посмотрите на распределение целевой переменной и скажите, являются ли классы несбалансированными.\n",
        "\n",
        "3) (Если будет желание) Поиграйте с разными библиотеками для визуализации - *sns*, *pandas_visual_analysis*, etc.\n",
        "\n",
        "Второй пункт очень важен, потому что существуют задачи классификации с несбалансированными классами. Например, это может значить, что в датасете намного больше примеров 0 класса. В таких случаях нужно 1) не использовать accuracy как метрику 2) использовать методы борьбы с imbalanced dataset (обычно если датасет сильно несбалансирован, т.е. класса 1 в 20 раз меньше класса 0)."
      ]
    },
    {
      "cell_type": "code",
      "metadata": {
        "id": "NZkbgFJZEEZE"
      },
      "source": [
        "# YOUR CODE"
      ],
      "execution_count": null,
      "outputs": []
    },
    {
      "cell_type": "code",
      "metadata": {
        "id": "pfjIDRThL7oW"
      },
      "source": [
        "# 1) Для численных признаков постройте гистограмму (plt.hist(...)) или boxplot (plt.boxplot(...)). \n",
        "#    Для категориальных посчитайте количество каждого значения для каждого признака.\n",
        "#    Для каждой колонки надо сделать data.value_counts() и построить bar диаграммы plt.bar(...) \n",
        "#    или круговые диаграммы plt.pie(...)\n",
        "#   (хорошо, еcли вы сможете это сделать на одном гарфике с помощью plt.subplots(...)).\n",
        "\n",
        "# 2) Посмотрите на распределение целевой переменной и скажите, являются ли классы несбалансированными.\n"
      ],
      "execution_count": null,
      "outputs": []
    },
    {
      "cell_type": "code",
      "metadata": {
        "id": "cg8XdFh9P6Fz"
      },
      "source": [
        "import matplotlib\n",
        "import matplotlib.pyplot as plt"
      ],
      "execution_count": null,
      "outputs": []
    },
    {
      "cell_type": "code",
      "metadata": {
        "colab": {
          "base_uri": "https://localhost:8080/"
        },
        "id": "5yI_VD2zfLJ9",
        "outputId": "b7e1d6c5-cbb7-4a71-9585-4da94bea8b5f"
      },
      "source": [
        "# Выведем данные категориальных признаков\n",
        "for column_name in cat_cols:\n",
        "    print(len(data[column_name].unique()), column_name + ':', data[column_name].unique())"
      ],
      "execution_count": null,
      "outputs": [
        {
          "output_type": "stream",
          "name": "stdout",
          "text": [
            "2 Sex: ['Male' 'Female']\n",
            "2 IsSeniorCitizen: [0 1]\n",
            "2 HasPartner: ['Yes' 'No']\n",
            "2 HasChild: ['Yes' 'No']\n",
            "2 HasPhoneService: ['Yes' 'No']\n",
            "3 HasMultiplePhoneNumbers: ['No' 'Yes' 'No phone service']\n",
            "3 HasInternetService: ['No' 'Fiber optic' 'DSL']\n",
            "3 HasOnlineSecurityService: ['No internet service' 'No' 'Yes']\n",
            "3 HasOnlineBackup: ['No internet service' 'No' 'Yes']\n",
            "3 HasDeviceProtection: ['No internet service' 'No' 'Yes']\n",
            "3 HasTechSupportAccess: ['No internet service' 'Yes' 'No']\n",
            "3 HasOnlineTV: ['No internet service' 'No' 'Yes']\n",
            "3 HasMovieSubscription: ['No internet service' 'No' 'Yes']\n",
            "3 HasContractPhone: ['One year' 'Two year' 'Month-to-month']\n",
            "2 IsBillingPaperless: ['No' 'Yes']\n",
            "4 PaymentMethod: ['Mailed check' 'Credit card (automatic)' 'Electronic check'\n",
            " 'Bank transfer (automatic)']\n"
          ]
        }
      ]
    },
    {
      "cell_type": "code",
      "metadata": {
        "colab": {
          "base_uri": "https://localhost:8080/"
        },
        "id": "3e0d4Zm2fkX3",
        "outputId": "88b09d96-5145-4cfe-e62f-3d484e1f7dd5"
      },
      "source": [
        "# Выведем типы колонок числовых признаков\n",
        "for column_name in num_cols:\n",
        "    print(column_name + \": \" + str(type(data[column_name][0])))"
      ],
      "execution_count": null,
      "outputs": [
        {
          "output_type": "stream",
          "name": "stdout",
          "text": [
            "ClientPeriod: <class 'numpy.int64'>\n",
            "MonthlySpending: <class 'numpy.float64'>\n",
            "TotalSpent: <class 'str'>\n"
          ]
        }
      ]
    },
    {
      "cell_type": "code",
      "metadata": {
        "id": "MYny3Tk-gOrK"
      },
      "source": [
        "# TotalSpent признак - строка (class 'str'), сконвертируем её во float, предварительно заменив пробелы на 0\n",
        "data.loc[data['TotalSpent']==' ', ('TotalSpent')] = 0\n",
        "data['TotalSpent'] = data['TotalSpent'].astype(float)\n",
        "\n",
        "test.loc[test['TotalSpent']==' ', ('TotalSpent')] = 0\n",
        "test['TotalSpent'] = test['TotalSpent'].astype(float)\n",
        "\n",
        "None\n"
      ],
      "execution_count": null,
      "outputs": []
    },
    {
      "cell_type": "code",
      "metadata": {
        "colab": {
          "base_uri": "https://localhost:8080/"
        },
        "id": "05ZlQqo_gmx6",
        "outputId": "f1edb740-6ecf-4786-c6df-31b0d9342a9a"
      },
      "source": [
        "# Выведем типы колонок числовых признаков\n",
        "for column_name in num_cols:\n",
        "    print(column_name + \": \" + str(type(data[column_name][0])))"
      ],
      "execution_count": null,
      "outputs": [
        {
          "output_type": "stream",
          "name": "stdout",
          "text": [
            "ClientPeriod: <class 'numpy.int64'>\n",
            "MonthlySpending: <class 'numpy.float64'>\n",
            "TotalSpent: <class 'numpy.float64'>\n"
          ]
        }
      ]
    },
    {
      "cell_type": "code",
      "metadata": {
        "colab": {
          "base_uri": "https://localhost:8080/"
        },
        "id": "-28f4Xas9iXa",
        "outputId": "aa322524-34db-4c38-f49c-d128c4921bdb"
      },
      "source": [
        "import math\n",
        "\n",
        "# развернуть число в строку, столбец\n",
        "# если число < 6 - две колонки\n",
        "# иначе, - три колонки\n",
        "def getRowColumn (lines):\n",
        "  column = row = 1\n",
        "  num_columns = 2 if (len(lines) < 6) else 3;\n",
        "  num_rows = math.ceil(len(lines) / num_columns)\n",
        "  for i in range(len(lines)):\n",
        "    if column == num_columns:\n",
        "      column = 1\n",
        "      row = row + 1\n",
        "    if i%num_columns:\n",
        "      column = column + 1;\n",
        "    yield i+1, row, column, num_rows, num_columns\n",
        "\n",
        "# проверим\n",
        "for i, row, column, num_rows, num_columns in getRowColumn(range(10)):\n",
        "  print(str(i) + \n",
        "        \" row: \" + str(row) + \n",
        "        \" column: \" + str(column) + \n",
        "        \" num_columns: \" + str(num_columns) +\n",
        "        \" num_rows: \" + str(num_rows))"
      ],
      "execution_count": null,
      "outputs": [
        {
          "output_type": "stream",
          "name": "stdout",
          "text": [
            "1 row: 1 column: 1 num_columns: 3 num_rows: 4\n",
            "2 row: 1 column: 2 num_columns: 3 num_rows: 4\n",
            "3 row: 1 column: 3 num_columns: 3 num_rows: 4\n",
            "4 row: 2 column: 1 num_columns: 3 num_rows: 4\n",
            "5 row: 2 column: 2 num_columns: 3 num_rows: 4\n",
            "6 row: 2 column: 3 num_columns: 3 num_rows: 4\n",
            "7 row: 3 column: 1 num_columns: 3 num_rows: 4\n",
            "8 row: 3 column: 2 num_columns: 3 num_rows: 4\n",
            "9 row: 3 column: 3 num_columns: 3 num_rows: 4\n",
            "10 row: 4 column: 1 num_columns: 3 num_rows: 4\n"
          ]
        }
      ]
    },
    {
      "cell_type": "code",
      "metadata": {
        "id": "B17SdVKgNU6l",
        "colab": {
          "base_uri": "https://localhost:8080/",
          "height": 716
        },
        "outputId": "cdae1f66-cc94-4dd0-bfe7-21d59f922e28"
      },
      "source": [
        "# Для численных признаков постройте гистограмму (plt.hist(...)) или boxplot (plt.boxplot(...)).\n",
        "def graph_num_cols(data):\n",
        "  f = plt.figure() # figsize=(9,16)\n",
        "  for i, row, column, num_rows, num_columns in getRowColumn(range(len(num_cols))):\n",
        "    if (i == 1): f.set_size_inches(num_columns * 6, num_rows * 6)\n",
        "    ax = f.add_subplot(num_rows, num_columns, i)\n",
        "    ax = data[num_cols[i-1]].hist()#.plot()\n",
        "    ax.set_title(num_cols[i-1])\n",
        "  plt.show()\n",
        "\n",
        "graph_num_cols(data)"
      ],
      "execution_count": null,
      "outputs": [
        {
          "output_type": "display_data",
          "data": {
            "image/png": "[encoded data removed]",
            "text/plain": [
              "<Figure size 864x864 with 3 Axes>"
            ]
          },
          "metadata": {
            "needs_background": "light"
          }
        }
      ]
    },
    {
      "cell_type": "code",
      "metadata": {
        "id": "BMmYhpajRw0v",
        "colab": {
          "base_uri": "https://localhost:8080/",
          "height": 311
        },
        "outputId": "591c30da-0388-4a11-a495-f233a650d443"
      },
      "source": [
        "# Пример единичного графика для ClientPeriod\n",
        "column = 'ClientPeriod'\n",
        "h = data[column].hist()\n",
        "fig = h.get_figure()\n",
        "fig.suptitle(column)"
      ],
      "execution_count": null,
      "outputs": [
        {
          "output_type": "execute_result",
          "data": {
            "text/plain": [
              "Text(0.5, 0.98, 'ClientPeriod')"
            ]
          },
          "metadata": {},
          "execution_count": 29
        },
        {
          "output_type": "display_data",
          "data": {
            "image/png": "[encoded data removed]",
            "text/plain": [
              "<Figure size 432x288 with 1 Axes>"
            ]
          },
          "metadata": {
            "needs_background": "light"
          }
        }
      ]
    },
    {
      "cell_type": "code",
      "metadata": {
        "colab": {
          "base_uri": "https://localhost:8080/",
          "height": 1000
        },
        "id": "UljNPIucJ2WR",
        "outputId": "37a0b685-4aa7-45d5-fa02-862c37390b3b"
      },
      "source": [
        "# Для категориальных признаков постройте гистограмму (plt.hist(...)) или boxplot (plt.boxplot(...)).\n",
        "def graph_cat_cols(data):\n",
        "  f = plt.figure() # figsize=(9,16)\n",
        "  for i, row, column, num_rows, num_columns in getRowColumn(range(len(cat_cols))):\n",
        "      if (i == 1): f.set_size_inches(num_columns * 5, num_rows * 5)\n",
        "      ax = f.add_subplot(num_rows, num_columns, i)\n",
        "      ax = data[cat_cols[i-1]].value_counts().plot(kind='barh')\n",
        "      ax.set_title(cat_cols[i-1])\n",
        "  plt.show()\n",
        "\n",
        "graph_cat_cols(data)"
      ],
      "execution_count": null,
      "outputs": [
        {
          "output_type": "display_data",
          "data": {
            "image/png": "[encoded data removed]",
            "text/plain": [
              "<Figure size 1080x2160 with 16 Axes>"
            ]
          },
          "metadata": {
            "needs_background": "light"
          }
        }
      ]
    },
    {
      "cell_type": "code",
      "metadata": {
        "id": "1L8kdn_XQ6RW",
        "colab": {
          "base_uri": "https://localhost:8080/",
          "height": 316
        },
        "outputId": "8558812a-af75-4832-f47c-4d7b45726ab6"
      },
      "source": [
        "# для примера оставил вывод картинки для признака Sex\n",
        "column = 'Sex'\n",
        "data[column].value_counts().plot(kind='barh')\n",
        "data[column].value_counts()"
      ],
      "execution_count": null,
      "outputs": [
        {
          "output_type": "execute_result",
          "data": {
            "text/plain": [
              "Male      2655\n",
              "Female    2627\n",
              "Name: Sex, dtype: int64"
            ]
          },
          "metadata": {},
          "execution_count": 31
        },
        {
          "output_type": "display_data",
          "data": {
            "image/png": "[encoded data removed]",
            "text/plain": [
              "<Figure size 432x288 with 1 Axes>"
            ]
          },
          "metadata": {
            "needs_background": "light"
          }
        }
      ]
    },
    {
      "cell_type": "code",
      "metadata": {
        "colab": {
          "base_uri": "https://localhost:8080/",
          "height": 311
        },
        "id": "kE2Z7C2sQOax",
        "outputId": "5a409a08-7913-4f9b-f6b9-10708eb61b31"
      },
      "source": [
        "# 2) Посмотрите на распределение целевой переменной и скажите, являются ли классы несбалансированными.\n",
        "h = data[target_col].hist()\n",
        "fig = h.get_figure()\n",
        "fig.suptitle(column)"
      ],
      "execution_count": null,
      "outputs": [
        {
          "output_type": "execute_result",
          "data": {
            "text/plain": [
              "Text(0.5, 0.98, 'Sex')"
            ]
          },
          "metadata": {},
          "execution_count": 32
        },
        {
          "output_type": "display_data",
          "data": {
            "image/png": "[encoded data removed]",
            "text/plain": [
              "<Figure size 432x288 with 1 Axes>"
            ]
          },
          "metadata": {
            "needs_background": "light"
          }
        }
      ]
    },
    {
      "cell_type": "markdown",
      "metadata": {
        "id": "zg60u3QDEEZH"
      },
      "source": [
        "(Дополнительно) Если вы нашли какие-то ошибки в данных или выбросы, то можете их убрать. Тут можно поэксперементировать с обработкой данных как угодно, но не за баллы."
      ]
    },
    {
      "cell_type": "code",
      "metadata": {
        "id": "fwfksF1gEEZI"
      },
      "source": [
        "# YOUR CODE"
      ],
      "execution_count": null,
      "outputs": []
    },
    {
      "cell_type": "markdown",
      "metadata": {
        "id": "DviiJd8REEZK"
      },
      "source": [
        "## Применение линейных моделей (3 балла)\n",
        "\n",
        "1) Обработайте данные для того, чтобы к ним можно было применить LogisticRegression. Т.е. отнормируйте числовые признаки, а категориальные закодируйте с помощью one-hot-encoding'а. \n",
        "\n",
        "2) С помощью кроссвалидации или разделения на train/valid выборку протестируйте разные значения гиперпараметра C и выберите лучший (можно тестировать С=100, 10, 1, 0.1, 0.01, 0.001) по метрике ROC-AUC. \n",
        "\n",
        "Если вы разделяете на train/valid, то используйте LogisticRegressionCV. Он сам при вызове .fit() подберет параметр С. (не забудьте передать scroing='roc_auc', чтобы при кроссвалидации сравнивались значения этой метрики, и refit=True, чтобы при потом модель обучилась на всем датасете с лучшим параметром C). \n",
        "\n",
        "\n",
        "(более сложный вариант) Если вы будете использовать кроссвалидацию, то преобразования данных и LogisticRegression нужно соединить в один Pipeline с помощью make_pipeline, как это делалось во втором семинаре. Потом pipeline надо передать в GridSearchCV. Для one-hot-encoding'a можно испльзовать комбинацию LabelEncoder + OneHotEncoder (сначала превращаем строчки в числа, а потом числа првращаем в one-hot вектора.)"
      ]
    },
    {
      "cell_type": "code",
      "metadata": {
        "id": "xHCLDmwqEEZL"
      },
      "source": [
        "from sklearn.linear_model import LogisticRegression, LogisticRegressionCV\n",
        "from sklearn.model_selection import train_test_split, GridSearchCV\n",
        "from sklearn.preprocessing import StandardScaler, RobustScaler, LabelEncoder, OneHotEncoder\n",
        "from sklearn.pipeline import make_pipeline"
      ],
      "execution_count": null,
      "outputs": []
    },
    {
      "cell_type": "code",
      "metadata": {
        "id": "P2Yv3uYtEEZO"
      },
      "source": [
        "# YOUR CODE"
      ],
      "execution_count": null,
      "outputs": []
    },
    {
      "cell_type": "code",
      "metadata": {
        "id": "J7V-pc-nxzWj"
      },
      "source": [
        "# 1) Обработайте данные для того, чтобы к ним можно было применить LogisticRegression.\n",
        "#    Т.е. отнормируйте числовые признаки, а категориальные закодируйте с помощью one-hot-encoding'а.\n",
        "\n",
        "X_num_train, X_num_test = data[num_cols], test[num_cols]\n",
        "X_cat_train, X_cat_test = data[cat_cols], test[cat_cols]"
      ],
      "execution_count": null,
      "outputs": []
    },
    {
      "cell_type": "code",
      "metadata": {
        "id": "WT0Y9tC-djaY"
      },
      "source": [
        "# Объединим массив тестовых и проверочных данных, чтобы работать одинаково с массивами\n",
        "all_data_1 = data\n",
        "all_data_1['IsTrainData'] = 1\n",
        "all_data_2 = test\n",
        "all_data_2['Churn'] = 1\n",
        "all_data_2['IsTrainData'] = 0\n",
        "all_data = pd.concat([all_data_1, all_data_2], axis=0)\n",
        "\n",
        "# Положим их в соответствующие массивы\n",
        "columns = cat_cols\n",
        "columns.append('IsTrainData')\n",
        "cat_data = all_data[columns]"
      ],
      "execution_count": null,
      "outputs": []
    },
    {
      "cell_type": "code",
      "metadata": {
        "colab": {
          "base_uri": "https://localhost:8080/"
        },
        "id": "IXAwzZGdexLI",
        "outputId": "6cddeb8a-182f-41ad-a737-fc8c3875e84c"
      },
      "source": [
        "# Выведем данные категориальных столбцов\n",
        "for column_name in cat_cols:\n",
        "    print(len(all_data[column_name].unique()), column_name + ':', all_data[column_name].unique())"
      ],
      "execution_count": null,
      "outputs": [
        {
          "output_type": "stream",
          "name": "stdout",
          "text": [
            "2 Sex: ['Male' 'Female']\n",
            "2 IsSeniorCitizen: [0 1]\n",
            "2 HasPartner: ['Yes' 'No']\n",
            "2 HasChild: ['Yes' 'No']\n",
            "2 HasPhoneService: ['Yes' 'No']\n",
            "3 HasMultiplePhoneNumbers: ['No' 'Yes' 'No phone service']\n",
            "3 HasInternetService: ['No' 'Fiber optic' 'DSL']\n",
            "3 HasOnlineSecurityService: ['No internet service' 'No' 'Yes']\n",
            "3 HasOnlineBackup: ['No internet service' 'No' 'Yes']\n",
            "3 HasDeviceProtection: ['No internet service' 'No' 'Yes']\n",
            "3 HasTechSupportAccess: ['No internet service' 'Yes' 'No']\n",
            "3 HasOnlineTV: ['No internet service' 'No' 'Yes']\n",
            "3 HasMovieSubscription: ['No internet service' 'No' 'Yes']\n",
            "3 HasContractPhone: ['One year' 'Two year' 'Month-to-month']\n",
            "2 IsBillingPaperless: ['No' 'Yes']\n",
            "4 PaymentMethod: ['Mailed check' 'Credit card (automatic)' 'Electronic check'\n",
            " 'Bank transfer (automatic)']\n",
            "2 IsTrainData: [1 0]\n"
          ]
        }
      ]
    },
    {
      "cell_type": "code",
      "metadata": {
        "colab": {
          "base_uri": "https://localhost:8080/"
        },
        "id": "mpZdoWH7eaei",
        "outputId": "5cb73673-900c-42aa-e9c2-45827ee79c3d"
      },
      "source": [
        "# применим к ним One-Hot Encoding\n",
        "new_cat_data = pd.get_dummies(cat_data)\n",
        "print('Размер категориальных данных до: '+str(cat_data.shape)+', после One-Hot Encoding: '+str(new_cat_data.shape))"
      ],
      "execution_count": null,
      "outputs": [
        {
          "output_type": "stream",
          "name": "stdout",
          "text": [
            "Размер категориальных данных до: (7043, 17), после One-Hot Encoding: (7043, 43)\n"
          ]
        }
      ]
    },
    {
      "cell_type": "code",
      "metadata": {
        "colab": {
          "base_uri": "https://localhost:8080/",
          "height": 142
        },
        "id": "HgneORWl1mgi",
        "outputId": "8398acd3-1325-4a13-fdbf-65565110fa8c"
      },
      "source": [
        "# нормализуем численные признаки\n",
        "train_data = all_data[all_data['IsTrainData']==1][num_cols]\n",
        "test_data  = all_data[all_data['IsTrainData']==0][num_cols]\n",
        "\n",
        "scaler = StandardScaler()\n",
        "new_num_train_data = pd.DataFrame(scaler.fit_transform(train_data), columns=train_data.columns)\n",
        "new_num_test_data = pd.DataFrame(scaler.transform(test_data), columns=test_data.columns)\n",
        "new_num_train_data.head(3)"
      ],
      "execution_count": null,
      "outputs": [
        {
          "output_type": "execute_result",
          "data": {
            "text/html": [
              "<div>\n",
              "<style scoped>\n",
              "    .dataframe tbody tr th:only-of-type {\n",
              "        vertical-align: middle;\n",
              "    }\n",
              "\n",
              "    .dataframe tbody tr th {\n",
              "        vertical-align: top;\n",
              "    }\n",
              "\n",
              "    .dataframe thead th {\n",
              "        text-align: right;\n",
              "    }\n",
              "</style>\n",
              "<table border=\"1\" class=\"dataframe\">\n",
              "  <thead>\n",
              "    <tr style=\"text-align: right;\">\n",
              "      <th></th>\n",
              "      <th>ClientPeriod</th>\n",
              "      <th>MonthlySpending</th>\n",
              "      <th>TotalSpent</th>\n",
              "    </tr>\n",
              "  </thead>\n",
              "  <tbody>\n",
              "    <tr>\n",
              "      <th>0</th>\n",
              "      <td>0.920767</td>\n",
              "      <td>-1.505447</td>\n",
              "      <td>-0.555852</td>\n",
              "    </tr>\n",
              "    <tr>\n",
              "      <th>1</th>\n",
              "      <td>1.613288</td>\n",
              "      <td>-1.294998</td>\n",
              "      <td>-0.183039</td>\n",
              "    </tr>\n",
              "    <tr>\n",
              "      <th>2</th>\n",
              "      <td>-1.279005</td>\n",
              "      <td>0.363737</td>\n",
              "      <td>-0.974768</td>\n",
              "    </tr>\n",
              "  </tbody>\n",
              "</table>\n",
              "</div>"
            ],
            "text/plain": [
              "   ClientPeriod  MonthlySpending  TotalSpent\n",
              "0      0.920767        -1.505447   -0.555852\n",
              "1      1.613288        -1.294998   -0.183039\n",
              "2     -1.279005         0.363737   -0.974768"
            ]
          },
          "metadata": {},
          "execution_count": 39
        }
      ]
    },
    {
      "cell_type": "code",
      "metadata": {
        "id": "6vNDBNQ21xBB"
      },
      "source": [
        "# вернуть min_max для данных\n",
        "def f_min_max(data, title_min='min', title_max='max'):\n",
        "  min_max = pd.concat([pd.DataFrame(data.min()), pd.DataFrame(data.max())], axis=1)\n",
        "  min_max.columns = [title_min, title_max]\n",
        "  return min_max"
      ],
      "execution_count": null,
      "outputs": []
    },
    {
      "cell_type": "code",
      "metadata": {
        "colab": {
          "base_uri": "https://localhost:8080/",
          "height": 142
        },
        "id": "CYdXHjYUx9ht",
        "outputId": "54c0c842-64be-41be-e9c5-71b90755cca8"
      },
      "source": [
        "min_max_train = pd.concat([\n",
        "                           f_min_max(train_data, 'train_min', 'train_max'),\n",
        "                           f_min_max(new_num_train_data, 'new_train_min', 'new_train_max')\n",
        "                          ], axis=1)\n",
        "min_max_train"
      ],
      "execution_count": null,
      "outputs": [
        {
          "output_type": "execute_result",
          "data": {
            "text/html": [
              "<div>\n",
              "<style scoped>\n",
              "    .dataframe tbody tr th:only-of-type {\n",
              "        vertical-align: middle;\n",
              "    }\n",
              "\n",
              "    .dataframe tbody tr th {\n",
              "        vertical-align: top;\n",
              "    }\n",
              "\n",
              "    .dataframe thead th {\n",
              "        text-align: right;\n",
              "    }\n",
              "</style>\n",
              "<table border=\"1\" class=\"dataframe\">\n",
              "  <thead>\n",
              "    <tr style=\"text-align: right;\">\n",
              "      <th></th>\n",
              "      <th>train_min</th>\n",
              "      <th>train_max</th>\n",
              "      <th>new_train_min</th>\n",
              "      <th>new_train_max</th>\n",
              "    </tr>\n",
              "  </thead>\n",
              "  <tbody>\n",
              "    <tr>\n",
              "      <th>ClientPeriod</th>\n",
              "      <td>0.00</td>\n",
              "      <td>72.00</td>\n",
              "      <td>-1.319741</td>\n",
              "      <td>1.613288</td>\n",
              "    </tr>\n",
              "    <tr>\n",
              "      <th>MonthlySpending</th>\n",
              "      <td>18.25</td>\n",
              "      <td>118.75</td>\n",
              "      <td>-1.546873</td>\n",
              "      <td>1.783852</td>\n",
              "    </tr>\n",
              "    <tr>\n",
              "      <th>TotalSpent</th>\n",
              "      <td>0.00</td>\n",
              "      <td>8684.80</td>\n",
              "      <td>-1.008221</td>\n",
              "      <td>2.819648</td>\n",
              "    </tr>\n",
              "  </tbody>\n",
              "</table>\n",
              "</div>"
            ],
            "text/plain": [
              "                 train_min  train_max  new_train_min  new_train_max\n",
              "ClientPeriod          0.00      72.00      -1.319741       1.613288\n",
              "MonthlySpending      18.25     118.75      -1.546873       1.783852\n",
              "TotalSpent            0.00    8684.80      -1.008221       2.819648"
            ]
          },
          "metadata": {},
          "execution_count": 41
        }
      ]
    },
    {
      "cell_type": "code",
      "metadata": {
        "colab": {
          "base_uri": "https://localhost:8080/",
          "height": 473
        },
        "id": "3tWbZBfkGQRN",
        "outputId": "4cabb880-4c7f-49a8-f654-c8a007121c7b"
      },
      "source": [
        "new_cat_data[new_cat_data['IsTrainData']==1]"
      ],
      "execution_count": null,
      "outputs": [
        {
          "output_type": "execute_result",
          "data": {
            "text/html": [
              "<div>\n",
              "<style scoped>\n",
              "    .dataframe tbody tr th:only-of-type {\n",
              "        vertical-align: middle;\n",
              "    }\n",
              "\n",
              "    .dataframe tbody tr th {\n",
              "        vertical-align: top;\n",
              "    }\n",
              "\n",
              "    .dataframe thead th {\n",
              "        text-align: right;\n",
              "    }\n",
              "</style>\n",
              "<table border=\"1\" class=\"dataframe\">\n",
              "  <thead>\n",
              "    <tr style=\"text-align: right;\">\n",
              "      <th></th>\n",
              "      <th>IsSeniorCitizen</th>\n",
              "      <th>IsTrainData</th>\n",
              "      <th>Sex_Female</th>\n",
              "      <th>Sex_Male</th>\n",
              "      <th>HasPartner_No</th>\n",
              "      <th>HasPartner_Yes</th>\n",
              "      <th>HasChild_No</th>\n",
              "      <th>HasChild_Yes</th>\n",
              "      <th>HasPhoneService_No</th>\n",
              "      <th>HasPhoneService_Yes</th>\n",
              "      <th>HasMultiplePhoneNumbers_No</th>\n",
              "      <th>HasMultiplePhoneNumbers_No phone service</th>\n",
              "      <th>HasMultiplePhoneNumbers_Yes</th>\n",
              "      <th>HasInternetService_DSL</th>\n",
              "      <th>HasInternetService_Fiber optic</th>\n",
              "      <th>HasInternetService_No</th>\n",
              "      <th>HasOnlineSecurityService_No</th>\n",
              "      <th>HasOnlineSecurityService_No internet service</th>\n",
              "      <th>HasOnlineSecurityService_Yes</th>\n",
              "      <th>HasOnlineBackup_No</th>\n",
              "      <th>HasOnlineBackup_No internet service</th>\n",
              "      <th>HasOnlineBackup_Yes</th>\n",
              "      <th>HasDeviceProtection_No</th>\n",
              "      <th>HasDeviceProtection_No internet service</th>\n",
              "      <th>HasDeviceProtection_Yes</th>\n",
              "      <th>HasTechSupportAccess_No</th>\n",
              "      <th>HasTechSupportAccess_No internet service</th>\n",
              "      <th>HasTechSupportAccess_Yes</th>\n",
              "      <th>HasOnlineTV_No</th>\n",
              "      <th>HasOnlineTV_No internet service</th>\n",
              "      <th>HasOnlineTV_Yes</th>\n",
              "      <th>HasMovieSubscription_No</th>\n",
              "      <th>HasMovieSubscription_No internet service</th>\n",
              "      <th>HasMovieSubscription_Yes</th>\n",
              "      <th>HasContractPhone_Month-to-month</th>\n",
              "      <th>HasContractPhone_One year</th>\n",
              "      <th>HasContractPhone_Two year</th>\n",
              "      <th>IsBillingPaperless_No</th>\n",
              "      <th>IsBillingPaperless_Yes</th>\n",
              "      <th>PaymentMethod_Bank transfer (automatic)</th>\n",
              "      <th>PaymentMethod_Credit card (automatic)</th>\n",
              "      <th>PaymentMethod_Electronic check</th>\n",
              "      <th>PaymentMethod_Mailed check</th>\n",
              "    </tr>\n",
              "  </thead>\n",
              "  <tbody>\n",
              "    <tr>\n",
              "      <th>0</th>\n",
              "      <td>0</td>\n",
              "      <td>1</td>\n",
              "      <td>0</td>\n",
              "      <td>1</td>\n",
              "      <td>0</td>\n",
              "      <td>1</td>\n",
              "      <td>0</td>\n",
              "      <td>1</td>\n",
              "      <td>0</td>\n",
              "      <td>1</td>\n",
              "      <td>1</td>\n",
              "      <td>0</td>\n",
              "      <td>0</td>\n",
              "      <td>0</td>\n",
              "      <td>0</td>\n",
              "      <td>1</td>\n",
              "      <td>0</td>\n",
              "      <td>1</td>\n",
              "      <td>0</td>\n",
              "      <td>0</td>\n",
              "      <td>1</td>\n",
              "      <td>0</td>\n",
              "      <td>0</td>\n",
              "      <td>1</td>\n",
              "      <td>0</td>\n",
              "      <td>0</td>\n",
              "      <td>1</td>\n",
              "      <td>0</td>\n",
              "      <td>0</td>\n",
              "      <td>1</td>\n",
              "      <td>0</td>\n",
              "      <td>0</td>\n",
              "      <td>1</td>\n",
              "      <td>0</td>\n",
              "      <td>0</td>\n",
              "      <td>1</td>\n",
              "      <td>0</td>\n",
              "      <td>1</td>\n",
              "      <td>0</td>\n",
              "      <td>0</td>\n",
              "      <td>0</td>\n",
              "      <td>0</td>\n",
              "      <td>1</td>\n",
              "    </tr>\n",
              "    <tr>\n",
              "      <th>1</th>\n",
              "      <td>0</td>\n",
              "      <td>1</td>\n",
              "      <td>0</td>\n",
              "      <td>1</td>\n",
              "      <td>0</td>\n",
              "      <td>1</td>\n",
              "      <td>1</td>\n",
              "      <td>0</td>\n",
              "      <td>0</td>\n",
              "      <td>1</td>\n",
              "      <td>0</td>\n",
              "      <td>0</td>\n",
              "      <td>1</td>\n",
              "      <td>0</td>\n",
              "      <td>0</td>\n",
              "      <td>1</td>\n",
              "      <td>0</td>\n",
              "      <td>1</td>\n",
              "      <td>0</td>\n",
              "      <td>0</td>\n",
              "      <td>1</td>\n",
              "      <td>0</td>\n",
              "      <td>0</td>\n",
              "      <td>1</td>\n",
              "      <td>0</td>\n",
              "      <td>0</td>\n",
              "      <td>1</td>\n",
              "      <td>0</td>\n",
              "      <td>0</td>\n",
              "      <td>1</td>\n",
              "      <td>0</td>\n",
              "      <td>0</td>\n",
              "      <td>1</td>\n",
              "      <td>0</td>\n",
              "      <td>0</td>\n",
              "      <td>0</td>\n",
              "      <td>1</td>\n",
              "      <td>1</td>\n",
              "      <td>0</td>\n",
              "      <td>0</td>\n",
              "      <td>1</td>\n",
              "      <td>0</td>\n",
              "      <td>0</td>\n",
              "    </tr>\n",
              "    <tr>\n",
              "      <th>2</th>\n",
              "      <td>0</td>\n",
              "      <td>1</td>\n",
              "      <td>0</td>\n",
              "      <td>1</td>\n",
              "      <td>1</td>\n",
              "      <td>0</td>\n",
              "      <td>1</td>\n",
              "      <td>0</td>\n",
              "      <td>0</td>\n",
              "      <td>1</td>\n",
              "      <td>1</td>\n",
              "      <td>0</td>\n",
              "      <td>0</td>\n",
              "      <td>0</td>\n",
              "      <td>1</td>\n",
              "      <td>0</td>\n",
              "      <td>1</td>\n",
              "      <td>0</td>\n",
              "      <td>0</td>\n",
              "      <td>1</td>\n",
              "      <td>0</td>\n",
              "      <td>0</td>\n",
              "      <td>1</td>\n",
              "      <td>0</td>\n",
              "      <td>0</td>\n",
              "      <td>0</td>\n",
              "      <td>0</td>\n",
              "      <td>1</td>\n",
              "      <td>1</td>\n",
              "      <td>0</td>\n",
              "      <td>0</td>\n",
              "      <td>1</td>\n",
              "      <td>0</td>\n",
              "      <td>0</td>\n",
              "      <td>1</td>\n",
              "      <td>0</td>\n",
              "      <td>0</td>\n",
              "      <td>0</td>\n",
              "      <td>1</td>\n",
              "      <td>0</td>\n",
              "      <td>0</td>\n",
              "      <td>1</td>\n",
              "      <td>0</td>\n",
              "    </tr>\n",
              "    <tr>\n",
              "      <th>3</th>\n",
              "      <td>1</td>\n",
              "      <td>1</td>\n",
              "      <td>1</td>\n",
              "      <td>0</td>\n",
              "      <td>0</td>\n",
              "      <td>1</td>\n",
              "      <td>1</td>\n",
              "      <td>0</td>\n",
              "      <td>0</td>\n",
              "      <td>1</td>\n",
              "      <td>0</td>\n",
              "      <td>0</td>\n",
              "      <td>1</td>\n",
              "      <td>0</td>\n",
              "      <td>1</td>\n",
              "      <td>0</td>\n",
              "      <td>1</td>\n",
              "      <td>0</td>\n",
              "      <td>0</td>\n",
              "      <td>1</td>\n",
              "      <td>0</td>\n",
              "      <td>0</td>\n",
              "      <td>0</td>\n",
              "      <td>0</td>\n",
              "      <td>1</td>\n",
              "      <td>1</td>\n",
              "      <td>0</td>\n",
              "      <td>0</td>\n",
              "      <td>1</td>\n",
              "      <td>0</td>\n",
              "      <td>0</td>\n",
              "      <td>1</td>\n",
              "      <td>0</td>\n",
              "      <td>0</td>\n",
              "      <td>1</td>\n",
              "      <td>0</td>\n",
              "      <td>0</td>\n",
              "      <td>1</td>\n",
              "      <td>0</td>\n",
              "      <td>0</td>\n",
              "      <td>0</td>\n",
              "      <td>0</td>\n",
              "      <td>1</td>\n",
              "    </tr>\n",
              "    <tr>\n",
              "      <th>4</th>\n",
              "      <td>0</td>\n",
              "      <td>1</td>\n",
              "      <td>1</td>\n",
              "      <td>0</td>\n",
              "      <td>0</td>\n",
              "      <td>1</td>\n",
              "      <td>0</td>\n",
              "      <td>1</td>\n",
              "      <td>0</td>\n",
              "      <td>1</td>\n",
              "      <td>0</td>\n",
              "      <td>0</td>\n",
              "      <td>1</td>\n",
              "      <td>0</td>\n",
              "      <td>1</td>\n",
              "      <td>0</td>\n",
              "      <td>0</td>\n",
              "      <td>0</td>\n",
              "      <td>1</td>\n",
              "      <td>0</td>\n",
              "      <td>0</td>\n",
              "      <td>1</td>\n",
              "      <td>0</td>\n",
              "      <td>0</td>\n",
              "      <td>1</td>\n",
              "      <td>0</td>\n",
              "      <td>0</td>\n",
              "      <td>1</td>\n",
              "      <td>0</td>\n",
              "      <td>0</td>\n",
              "      <td>1</td>\n",
              "      <td>0</td>\n",
              "      <td>0</td>\n",
              "      <td>1</td>\n",
              "      <td>0</td>\n",
              "      <td>0</td>\n",
              "      <td>1</td>\n",
              "      <td>1</td>\n",
              "      <td>0</td>\n",
              "      <td>0</td>\n",
              "      <td>1</td>\n",
              "      <td>0</td>\n",
              "      <td>0</td>\n",
              "    </tr>\n",
              "    <tr>\n",
              "      <th>...</th>\n",
              "      <td>...</td>\n",
              "      <td>...</td>\n",
              "      <td>...</td>\n",
              "      <td>...</td>\n",
              "      <td>...</td>\n",
              "      <td>...</td>\n",
              "      <td>...</td>\n",
              "      <td>...</td>\n",
              "      <td>...</td>\n",
              "      <td>...</td>\n",
              "      <td>...</td>\n",
              "      <td>...</td>\n",
              "      <td>...</td>\n",
              "      <td>...</td>\n",
              "      <td>...</td>\n",
              "      <td>...</td>\n",
              "      <td>...</td>\n",
              "      <td>...</td>\n",
              "      <td>...</td>\n",
              "      <td>...</td>\n",
              "      <td>...</td>\n",
              "      <td>...</td>\n",
              "      <td>...</td>\n",
              "      <td>...</td>\n",
              "      <td>...</td>\n",
              "      <td>...</td>\n",
              "      <td>...</td>\n",
              "      <td>...</td>\n",
              "      <td>...</td>\n",
              "      <td>...</td>\n",
              "      <td>...</td>\n",
              "      <td>...</td>\n",
              "      <td>...</td>\n",
              "      <td>...</td>\n",
              "      <td>...</td>\n",
              "      <td>...</td>\n",
              "      <td>...</td>\n",
              "      <td>...</td>\n",
              "      <td>...</td>\n",
              "      <td>...</td>\n",
              "      <td>...</td>\n",
              "      <td>...</td>\n",
              "      <td>...</td>\n",
              "    </tr>\n",
              "    <tr>\n",
              "      <th>5277</th>\n",
              "      <td>0</td>\n",
              "      <td>1</td>\n",
              "      <td>0</td>\n",
              "      <td>1</td>\n",
              "      <td>1</td>\n",
              "      <td>0</td>\n",
              "      <td>1</td>\n",
              "      <td>0</td>\n",
              "      <td>1</td>\n",
              "      <td>0</td>\n",
              "      <td>0</td>\n",
              "      <td>1</td>\n",
              "      <td>0</td>\n",
              "      <td>1</td>\n",
              "      <td>0</td>\n",
              "      <td>0</td>\n",
              "      <td>1</td>\n",
              "      <td>0</td>\n",
              "      <td>0</td>\n",
              "      <td>1</td>\n",
              "      <td>0</td>\n",
              "      <td>0</td>\n",
              "      <td>1</td>\n",
              "      <td>0</td>\n",
              "      <td>0</td>\n",
              "      <td>0</td>\n",
              "      <td>0</td>\n",
              "      <td>1</td>\n",
              "      <td>1</td>\n",
              "      <td>0</td>\n",
              "      <td>0</td>\n",
              "      <td>1</td>\n",
              "      <td>0</td>\n",
              "      <td>0</td>\n",
              "      <td>1</td>\n",
              "      <td>0</td>\n",
              "      <td>0</td>\n",
              "      <td>1</td>\n",
              "      <td>0</td>\n",
              "      <td>0</td>\n",
              "      <td>0</td>\n",
              "      <td>1</td>\n",
              "      <td>0</td>\n",
              "    </tr>\n",
              "    <tr>\n",
              "      <th>5278</th>\n",
              "      <td>0</td>\n",
              "      <td>1</td>\n",
              "      <td>0</td>\n",
              "      <td>1</td>\n",
              "      <td>0</td>\n",
              "      <td>1</td>\n",
              "      <td>1</td>\n",
              "      <td>0</td>\n",
              "      <td>1</td>\n",
              "      <td>0</td>\n",
              "      <td>0</td>\n",
              "      <td>1</td>\n",
              "      <td>0</td>\n",
              "      <td>1</td>\n",
              "      <td>0</td>\n",
              "      <td>0</td>\n",
              "      <td>0</td>\n",
              "      <td>0</td>\n",
              "      <td>1</td>\n",
              "      <td>1</td>\n",
              "      <td>0</td>\n",
              "      <td>0</td>\n",
              "      <td>1</td>\n",
              "      <td>0</td>\n",
              "      <td>0</td>\n",
              "      <td>0</td>\n",
              "      <td>0</td>\n",
              "      <td>1</td>\n",
              "      <td>0</td>\n",
              "      <td>0</td>\n",
              "      <td>1</td>\n",
              "      <td>1</td>\n",
              "      <td>0</td>\n",
              "      <td>0</td>\n",
              "      <td>0</td>\n",
              "      <td>1</td>\n",
              "      <td>0</td>\n",
              "      <td>0</td>\n",
              "      <td>1</td>\n",
              "      <td>1</td>\n",
              "      <td>0</td>\n",
              "      <td>0</td>\n",
              "      <td>0</td>\n",
              "    </tr>\n",
              "    <tr>\n",
              "      <th>5279</th>\n",
              "      <td>0</td>\n",
              "      <td>1</td>\n",
              "      <td>0</td>\n",
              "      <td>1</td>\n",
              "      <td>1</td>\n",
              "      <td>0</td>\n",
              "      <td>1</td>\n",
              "      <td>0</td>\n",
              "      <td>0</td>\n",
              "      <td>1</td>\n",
              "      <td>1</td>\n",
              "      <td>0</td>\n",
              "      <td>0</td>\n",
              "      <td>1</td>\n",
              "      <td>0</td>\n",
              "      <td>0</td>\n",
              "      <td>1</td>\n",
              "      <td>0</td>\n",
              "      <td>0</td>\n",
              "      <td>1</td>\n",
              "      <td>0</td>\n",
              "      <td>0</td>\n",
              "      <td>0</td>\n",
              "      <td>0</td>\n",
              "      <td>1</td>\n",
              "      <td>0</td>\n",
              "      <td>0</td>\n",
              "      <td>1</td>\n",
              "      <td>1</td>\n",
              "      <td>0</td>\n",
              "      <td>0</td>\n",
              "      <td>1</td>\n",
              "      <td>0</td>\n",
              "      <td>0</td>\n",
              "      <td>1</td>\n",
              "      <td>0</td>\n",
              "      <td>0</td>\n",
              "      <td>1</td>\n",
              "      <td>0</td>\n",
              "      <td>0</td>\n",
              "      <td>0</td>\n",
              "      <td>0</td>\n",
              "      <td>1</td>\n",
              "    </tr>\n",
              "    <tr>\n",
              "      <th>5280</th>\n",
              "      <td>0</td>\n",
              "      <td>1</td>\n",
              "      <td>1</td>\n",
              "      <td>0</td>\n",
              "      <td>1</td>\n",
              "      <td>0</td>\n",
              "      <td>1</td>\n",
              "      <td>0</td>\n",
              "      <td>0</td>\n",
              "      <td>1</td>\n",
              "      <td>0</td>\n",
              "      <td>0</td>\n",
              "      <td>1</td>\n",
              "      <td>0</td>\n",
              "      <td>1</td>\n",
              "      <td>0</td>\n",
              "      <td>1</td>\n",
              "      <td>0</td>\n",
              "      <td>0</td>\n",
              "      <td>1</td>\n",
              "      <td>0</td>\n",
              "      <td>0</td>\n",
              "      <td>1</td>\n",
              "      <td>0</td>\n",
              "      <td>0</td>\n",
              "      <td>1</td>\n",
              "      <td>0</td>\n",
              "      <td>0</td>\n",
              "      <td>1</td>\n",
              "      <td>0</td>\n",
              "      <td>0</td>\n",
              "      <td>1</td>\n",
              "      <td>0</td>\n",
              "      <td>0</td>\n",
              "      <td>1</td>\n",
              "      <td>0</td>\n",
              "      <td>0</td>\n",
              "      <td>0</td>\n",
              "      <td>1</td>\n",
              "      <td>0</td>\n",
              "      <td>1</td>\n",
              "      <td>0</td>\n",
              "      <td>0</td>\n",
              "    </tr>\n",
              "    <tr>\n",
              "      <th>5281</th>\n",
              "      <td>0</td>\n",
              "      <td>1</td>\n",
              "      <td>1</td>\n",
              "      <td>0</td>\n",
              "      <td>1</td>\n",
              "      <td>0</td>\n",
              "      <td>0</td>\n",
              "      <td>1</td>\n",
              "      <td>0</td>\n",
              "      <td>1</td>\n",
              "      <td>0</td>\n",
              "      <td>0</td>\n",
              "      <td>1</td>\n",
              "      <td>1</td>\n",
              "      <td>0</td>\n",
              "      <td>0</td>\n",
              "      <td>0</td>\n",
              "      <td>0</td>\n",
              "      <td>1</td>\n",
              "      <td>0</td>\n",
              "      <td>0</td>\n",
              "      <td>1</td>\n",
              "      <td>1</td>\n",
              "      <td>0</td>\n",
              "      <td>0</td>\n",
              "      <td>0</td>\n",
              "      <td>0</td>\n",
              "      <td>1</td>\n",
              "      <td>0</td>\n",
              "      <td>0</td>\n",
              "      <td>1</td>\n",
              "      <td>1</td>\n",
              "      <td>0</td>\n",
              "      <td>0</td>\n",
              "      <td>1</td>\n",
              "      <td>0</td>\n",
              "      <td>0</td>\n",
              "      <td>0</td>\n",
              "      <td>1</td>\n",
              "      <td>0</td>\n",
              "      <td>0</td>\n",
              "      <td>0</td>\n",
              "      <td>1</td>\n",
              "    </tr>\n",
              "  </tbody>\n",
              "</table>\n",
              "<p>5282 rows × 43 columns</p>\n",
              "</div>"
            ],
            "text/plain": [
              "      IsSeniorCitizen  ...  PaymentMethod_Mailed check\n",
              "0                   0  ...                           1\n",
              "1                   0  ...                           0\n",
              "2                   0  ...                           0\n",
              "3                   1  ...                           1\n",
              "4                   0  ...                           0\n",
              "...               ...  ...                         ...\n",
              "5277                0  ...                           0\n",
              "5278                0  ...                           0\n",
              "5279                0  ...                           1\n",
              "5280                0  ...                           0\n",
              "5281                0  ...                           1\n",
              "\n",
              "[5282 rows x 43 columns]"
            ]
          },
          "metadata": {},
          "execution_count": 42
        }
      ]
    },
    {
      "cell_type": "code",
      "metadata": {
        "id": "v527f1XbRTUl"
      },
      "source": [
        "# Объединим преобразованные данные вместе\n",
        "orig_test_data = test_data\n",
        "orig_train_data = train_data\n",
        "\n",
        "new_cat_train_data = new_cat_data[new_cat_data['IsTrainData']==1]\n",
        "new_cat_test_data  = new_cat_data[new_cat_data['IsTrainData']==0]\n",
        "\n",
        "new_cat_train_data.drop(['IsTrainData'], axis = 1)\n",
        "new_cat_test_data.drop(['IsTrainData'], axis = 1)\n",
        "\n",
        "Y_train_data = data['Churn']\n",
        "\n",
        "train_data = pd.concat([new_num_train_data, new_cat_train_data], axis=1)\n",
        "test_data  = pd.concat([new_num_test_data, new_cat_test_data], axis=1)"
      ],
      "execution_count": null,
      "outputs": []
    },
    {
      "cell_type": "code",
      "metadata": {
        "id": "SjukaRLZHiQJ"
      },
      "source": [
        "# Утянем к себе красивую процедурку отсюда: \n",
        "# https://colab.research.google.com/drive/163o53qfrOvs1_lEGBlV2NYW3K8LQPgXo#scrollTo=DsIxH1vZvh-l\n",
        "def search_and_draw(X, y, model, param_name, grid, param_scale='ordinary', draw=True):\n",
        "    parameters = {param_name: grid}\n",
        "    \n",
        "    # Найти наилучшие параметры, путем обычного перебора\n",
        "    CV_model = GridSearchCV(estimator=model, \n",
        "                            param_grid=parameters,\n",
        "                            cv=5, \n",
        "                            scoring='f1',\n",
        "                            n_jobs=-1, \n",
        "                            verbose=10)\n",
        "    CV_model.fit(X, y)\n",
        "    means = CV_model.cv_results_['mean_test_score']\n",
        "    error = CV_model.cv_results_['std_test_score']\n",
        "    \n",
        "    if draw:\n",
        "        plt.figure(figsize=(15,8))\n",
        "        plt.title('choose ' + param_name)\n",
        "\n",
        "\n",
        "        if (param_scale == 'log'):\n",
        "            plt.xscale('log')\n",
        "\n",
        "        plt.plot(grid, means, label='mean values of score', color='red', lw=3)\n",
        "\n",
        "        plt.fill_between(grid, means - 2 * error, means + 2 * error, \n",
        "                         color='green', label='filled area between errors', alpha=0.5)\n",
        "        legend_box = plt.legend(framealpha=1).get_frame()\n",
        "        legend_box.set_facecolor(\"white\")\n",
        "        legend_box.set_edgecolor(\"black\")\n",
        "        plt.xlabel('parameter')\n",
        "        plt.ylabel('roc_auc')\n",
        "        plt.show()\n",
        "        \n",
        "    return means, error"
      ],
      "execution_count": null,
      "outputs": []
    },
    {
      "cell_type": "code",
      "metadata": {
        "id": "KToWCDN5HrAx"
      },
      "source": [
        "# 2) С помощью кроссвалидации или разделения на train/valid выборку протестируйте \n",
        "# разные значения гиперпараметра C и выберите лучший\n",
        "# (можно тестировать С=100, 10, 1, 0.1, 0.01, 0.001) по метрике ROC-AUC.\n",
        "# Если вы разделяете на train/valid, то используйте LogisticRegressionCV.\n",
        "# Он сам при вызове .fit() подберет параметр С. \n",
        "# (не забудьте передать scroing='roc_auc', чтобы при кроссвалидации сравнивались\n",
        "# значения этой метрики, и refit=True, чтобы при потом модель обучилась на всем \n",
        "# датасете с лучшим параметром C).\n",
        "# * (более сложный вариант) Если вы будете использовать кроссвалидацию, то \n",
        "# преобразования данных и LogisticRegression нужно соединить в один Pipeline с\n",
        "# помощью make_pipeline, как это делалось во втором семинаре. Потом pipeline надо \n",
        "# передать в GridSearchCV. Для one-hot-encoding'a можно испльзовать комбинацию \n",
        "# LabelEncoder + OneHotEncoder (сначала превращаем строчки в числа, а потом \n",
        "# числа првращаем в one-hot вектора.)"
      ],
      "execution_count": null,
      "outputs": []
    },
    {
      "cell_type": "code",
      "metadata": {
        "id": "UsyA19mkJAYu"
      },
      "source": [
        "from sklearn.model_selection import GridSearchCV\n",
        "from sklearn.model_selection import RandomizedSearchCV\n",
        "\n",
        "from sklearn.neighbors import KNeighborsClassifier\n",
        "from sklearn.tree import DecisionTreeClassifier\n",
        "\n",
        "from sklearn.model_selection import KFold\n",
        "from sklearn.metrics import roc_auc_score\n",
        "from tqdm.notebook import tqdm"
      ],
      "execution_count": null,
      "outputs": []
    },
    {
      "cell_type": "code",
      "metadata": {
        "colab": {
          "base_uri": "https://localhost:8080/",
          "height": 49,
          "referenced_widgets": [
            "d4e8d2e8f3e240f5927f3b97d6695e43",
            "1a5446bd784f47c4a3c8c4727fa9b6a3",
            "bda9f3cb9dfb44d49b5ac2baae83badb",
            "af9addbbb00c43d7a7f0178d4a2e50be",
            "014866cfd7de40ae98cd5ed55c41137a",
            "973d5611765a4fb9b588c87f3725ebf3",
            "de9962a59d274536bc4240f5741532c8",
            "16103162cb1045978f001c16176b8fba",
            "14b66da28f9346fe8f25de84257a98a7",
            "3fb629dbce0040d3b9638da9bb592dfd",
            "0197e3ac7869460a844165e41c63748f"
          ]
        },
        "id": "a7mBtcPSI5C2",
        "outputId": "3d870f9a-392c-4f31-9652-125528f56465"
      },
      "source": [
        "# Если вы разделяете на train/valid, то используйте LogisticRegressionCV.\n",
        "# Он сам при вызове .fit() подберет параметр С. \n",
        "# (не забудьте передать scroing='roc_auc', чтобы при кроссвалидации сравнивались\n",
        "# значения этой метрики, и refit=True, чтобы при потом модель обучилась на всем \n",
        "# датасете с лучшим параметром C).\n",
        "\n",
        "kf = KFold(n_splits=5, shuffle=True, random_state=1234)\n",
        "\n",
        "global_scores = []\n",
        "clf = LogisticRegressionCV(max_iter=1000,scoring='roc_auc', refit=True)\n",
        "\n",
        "for train_indices, val_indices in tqdm(kf.split(train_data), total=5):\n",
        "\n",
        "    # обучающая выборка\n",
        "    X_train_kf = train_data.iloc[train_indices]\n",
        "    Y_train_kf = Y_train_data.iloc[train_indices]\n",
        "\n",
        "    # тестовая выборка\n",
        "    X_val_kf = train_data.iloc[val_indices]\n",
        "    Y_val_kf = Y_train_data.iloc[val_indices]\n",
        "\n",
        "    # обучить модель на обучающей выборке\n",
        "    clf.fit(X_train_kf, Y_train_kf)\n",
        "\n",
        "    # получить метрику roc_auc на тестовой выборке\n",
        "    scores = roc_auc_score(Y_val_kf, clf.predict_proba(X_val_kf)[:, 1])\n",
        "    \n",
        "    global_scores.append([scores, clf.Cs])\n",
        "\n",
        "global_scores = np.stack(global_scores, axis=0)"
      ],
      "execution_count": null,
      "outputs": [
        {
          "output_type": "display_data",
          "data": {
            "application/vnd.jupyter.widget-view+json": {
              "model_id": "d4e8d2e8f3e240f5927f3b97d6695e43",
              "version_minor": 0,
              "version_major": 2
            },
            "text/plain": [
              "  0%|          | 0/5 [00:00<?, ?it/s]"
            ]
          },
          "metadata": {}
        }
      ]
    },
    {
      "cell_type": "code",
      "metadata": {
        "colab": {
          "base_uri": "https://localhost:8080/"
        },
        "id": "lZ4GXr7fYTrW",
        "outputId": "eee6c16b-af6c-4bdd-be61-a0d1c0f86cd5"
      },
      "source": [
        "# выведем лучший score\n",
        "max_score = 0\n",
        "max_cs = 0\n",
        "for scores in global_scores:\n",
        "  if max_score < scores[0]:\n",
        "    max_score = scores[0]\n",
        "    max_cs = scores[1]\n",
        "print('Лучший score: ' + str(max_score) + ' при С = ' + str(max_cs))"
      ],
      "execution_count": null,
      "outputs": [
        {
          "output_type": "stream",
          "name": "stdout",
          "text": [
            "Лучший score: 0.8528821885158147 при С = 10.0\n"
          ]
        }
      ]
    },
    {
      "cell_type": "markdown",
      "metadata": {
        "id": "uVahy6JKEEZQ"
      },
      "source": [
        "Выпишите какое лучшее качество и с какими параметрами вам удалось получить"
      ]
    },
    {
      "cell_type": "markdown",
      "metadata": {
        "id": "36729TOQEEZR"
      },
      "source": [
        ""
      ]
    },
    {
      "cell_type": "markdown",
      "metadata": {
        "id": "BlTeVy7fEEZR"
      },
      "source": [
        "## Применение градиентного бустинга (2 балла)\n",
        "\n",
        "Если вы хотите получить баллы за точный ответ, то стоит попробовать градиентный бустинг. Часто градиентный бустинг с дефолтными параметрами даст вам 80% результата за 0% усилий.\n",
        "\n",
        "Мы будем использовать catboost, поэтому нам не надо кодировать категориальные признаки. catboost сделает это сам (в .fit() надо передать cat_features=cat_cols). А численные признаки нормировать для моделей, основанных на деревьях не нужно.\n",
        "\n",
        "1) Разделите выборку на train/valid. Протестируйте catboost cо стандартными параметрами.\n",
        "\n",
        "2) Протестируйте разные занчения параметроа количества деревьев и learning_rate'а и выберите лучшую по метрике ROC-AUC комбинацию. \n",
        "\n",
        "(Дополнительно) Есть некоторые сложности с тем, чтобы использовать CatBoostClassifier вместе с GridSearchCV, поэтому мы не просим использовать кроссвалидацию. Но можете попробовать)"
      ]
    },
    {
      "cell_type": "code",
      "metadata": {
        "id": "Fioxxlp-EEZS"
      },
      "source": [
        "# YOUR CODE"
      ],
      "execution_count": null,
      "outputs": []
    },
    {
      "cell_type": "code",
      "metadata": {
        "colab": {
          "base_uri": "https://localhost:8080/"
        },
        "id": "H_mdOraubmJu",
        "outputId": "f5d02b67-4c37-4ebb-ccb8-ce1a0e4c07b0"
      },
      "source": [
        "# если этого модуля нет, то нужно раскомментировать следующую строчку и запустить\n",
        "!pip install catboost"
      ],
      "execution_count": null,
      "outputs": [
        {
          "output_type": "stream",
          "name": "stdout",
          "text": [
            "Collecting catboost\n",
            "  Downloading catboost-1.0.0-cp37-none-manylinux1_x86_64.whl (76.4 MB)\n",
            "\u001b[K     |████████████████████████████████| 76.4 MB 21 kB/s \n",
            "\u001b[?25hRequirement already satisfied: six in /usr/local/lib/python3.7/dist-packages (from catboost) (1.15.0)\n",
            "Requirement already satisfied: numpy>=1.16.0 in /usr/local/lib/python3.7/dist-packages (from catboost) (1.19.5)\n",
            "Requirement already satisfied: scipy in /usr/local/lib/python3.7/dist-packages (from catboost) (1.4.1)\n",
            "Requirement already satisfied: matplotlib in /usr/local/lib/python3.7/dist-packages (from catboost) (3.2.2)\n",
            "Requirement already satisfied: graphviz in /usr/local/lib/python3.7/dist-packages (from catboost) (0.10.1)\n",
            "Requirement already satisfied: plotly in /usr/local/lib/python3.7/dist-packages (from catboost) (4.4.1)\n",
            "Requirement already satisfied: pandas>=0.24.0 in /usr/local/lib/python3.7/dist-packages (from catboost) (1.1.5)\n",
            "Requirement already satisfied: python-dateutil>=2.7.3 in /usr/local/lib/python3.7/dist-packages (from pandas>=0.24.0->catboost) (2.8.2)\n",
            "Requirement already satisfied: pytz>=2017.2 in /usr/local/lib/python3.7/dist-packages (from pandas>=0.24.0->catboost) (2018.9)\n",
            "Requirement already satisfied: kiwisolver>=1.0.1 in /usr/local/lib/python3.7/dist-packages (from matplotlib->catboost) (1.3.2)\n",
            "Requirement already satisfied: cycler>=0.10 in /usr/local/lib/python3.7/dist-packages (from matplotlib->catboost) (0.10.0)\n",
            "Requirement already satisfied: pyparsing!=2.0.4,!=2.1.2,!=2.1.6,>=2.0.1 in /usr/local/lib/python3.7/dist-packages (from matplotlib->catboost) (2.4.7)\n",
            "Requirement already satisfied: retrying>=1.3.3 in /usr/local/lib/python3.7/dist-packages (from plotly->catboost) (1.3.3)\n",
            "Installing collected packages: catboost\n",
            "Successfully installed catboost-1.0.0\n"
          ]
        }
      ]
    },
    {
      "cell_type": "code",
      "metadata": {
        "id": "OnoVPRtSbo-G"
      },
      "source": [
        "import catboost # документация: https://catboost.ai/docs"
      ],
      "execution_count": null,
      "outputs": []
    },
    {
      "cell_type": "code",
      "metadata": {
        "id": "ewKKhgbNbu2Q"
      },
      "source": [
        "# CatBoost умеет работать с категориальными признаками сам\n",
        "X_train_origin, X_test_origin, Y_train_origin, Y_test_origin = train_test_split(\n",
        "                    data.values, \n",
        "                    Y_train_data.values, \n",
        "                    train_size=0.8, \n",
        "                    random_state=42)\n",
        "X_train_origin = pd.DataFrame(X_train_origin, columns=data.columns)\n",
        "X_test_origin  = pd.DataFrame(X_test_origin, columns=data.columns)"
      ],
      "execution_count": null,
      "outputs": []
    },
    {
      "cell_type": "code",
      "metadata": {
        "colab": {
          "base_uri": "https://localhost:8080/"
        },
        "id": "aJ5Wra-ScZUO",
        "outputId": "5f7bc273-7f6a-4994-ebff-5b5e1c8f00fe"
      },
      "source": [
        "boosting_model = catboost.CatBoostClassifier(n_estimators=200,\n",
        "                                             cat_features=cat_cols)\n",
        "\n",
        "boosting_model.fit(X_train_origin, Y_train_origin)\n",
        "\n",
        "Y_train_predicted = boosting_model.predict_proba(X_train_origin)[:, 1]\n",
        "Y_test_predicted = boosting_model.predict_proba(X_test_origin)[:, 1]"
      ],
      "execution_count": null,
      "outputs": [
        {
          "output_type": "stream",
          "name": "stdout",
          "text": [
            "Learning rate set to 0.083391\n",
            "0:\tlearn: 0.4601281\ttotal: 14.3ms\tremaining: 2.85s\n",
            "1:\tlearn: 0.3018192\ttotal: 27.1ms\tremaining: 2.69s\n",
            "2:\tlearn: 0.2040783\ttotal: 40.7ms\tremaining: 2.67s\n",
            "3:\tlearn: 0.1358865\ttotal: 55.5ms\tremaining: 2.72s\n",
            "4:\tlearn: 0.0917941\ttotal: 67.7ms\tremaining: 2.64s\n",
            "5:\tlearn: 0.0645440\ttotal: 80.1ms\tremaining: 2.59s\n",
            "6:\tlearn: 0.0464856\ttotal: 95ms\tremaining: 2.62s\n",
            "7:\tlearn: 0.0328627\ttotal: 103ms\tremaining: 2.46s\n",
            "8:\tlearn: 0.0224436\ttotal: 111ms\tremaining: 2.35s\n",
            "9:\tlearn: 0.0172441\ttotal: 121ms\tremaining: 2.3s\n",
            "10:\tlearn: 0.0139279\ttotal: 135ms\tremaining: 2.32s\n",
            "11:\tlearn: 0.0102320\ttotal: 141ms\tremaining: 2.21s\n",
            "12:\tlearn: 0.0086536\ttotal: 154ms\tremaining: 2.22s\n",
            "13:\tlearn: 0.0070316\ttotal: 164ms\tremaining: 2.18s\n",
            "14:\tlearn: 0.0057548\ttotal: 179ms\tremaining: 2.21s\n",
            "15:\tlearn: 0.0047121\ttotal: 189ms\tremaining: 2.18s\n",
            "16:\tlearn: 0.0038313\ttotal: 201ms\tremaining: 2.16s\n",
            "17:\tlearn: 0.0033482\ttotal: 212ms\tremaining: 2.15s\n",
            "18:\tlearn: 0.0028402\ttotal: 221ms\tremaining: 2.11s\n",
            "19:\tlearn: 0.0023439\ttotal: 227ms\tremaining: 2.04s\n",
            "20:\tlearn: 0.0019605\ttotal: 232ms\tremaining: 1.98s\n",
            "21:\tlearn: 0.0017489\ttotal: 241ms\tremaining: 1.95s\n",
            "22:\tlearn: 0.0016074\ttotal: 253ms\tremaining: 1.94s\n",
            "23:\tlearn: 0.0014852\ttotal: 266ms\tremaining: 1.95s\n",
            "24:\tlearn: 0.0013852\ttotal: 277ms\tremaining: 1.94s\n",
            "25:\tlearn: 0.0012418\ttotal: 287ms\tremaining: 1.92s\n",
            "26:\tlearn: 0.0011877\ttotal: 302ms\tremaining: 1.94s\n",
            "27:\tlearn: 0.0011133\ttotal: 314ms\tremaining: 1.93s\n",
            "28:\tlearn: 0.0010398\ttotal: 325ms\tremaining: 1.92s\n",
            "29:\tlearn: 0.0009740\ttotal: 339ms\tremaining: 1.92s\n",
            "30:\tlearn: 0.0009250\ttotal: 352ms\tremaining: 1.92s\n",
            "31:\tlearn: 0.0008755\ttotal: 366ms\tremaining: 1.92s\n",
            "32:\tlearn: 0.0008156\ttotal: 375ms\tremaining: 1.9s\n",
            "33:\tlearn: 0.0007539\ttotal: 384ms\tremaining: 1.87s\n",
            "34:\tlearn: 0.0007142\ttotal: 400ms\tremaining: 1.89s\n",
            "35:\tlearn: 0.0006718\ttotal: 415ms\tremaining: 1.89s\n",
            "36:\tlearn: 0.0006375\ttotal: 424ms\tremaining: 1.87s\n",
            "37:\tlearn: 0.0006212\ttotal: 438ms\tremaining: 1.87s\n",
            "38:\tlearn: 0.0005979\ttotal: 450ms\tremaining: 1.85s\n",
            "39:\tlearn: 0.0005607\ttotal: 459ms\tremaining: 1.84s\n",
            "40:\tlearn: 0.0005355\ttotal: 471ms\tremaining: 1.82s\n",
            "41:\tlearn: 0.0005071\ttotal: 481ms\tremaining: 1.81s\n",
            "42:\tlearn: 0.0005070\ttotal: 493ms\tremaining: 1.8s\n",
            "43:\tlearn: 0.0004833\ttotal: 503ms\tremaining: 1.78s\n",
            "44:\tlearn: 0.0004648\ttotal: 518ms\tremaining: 1.78s\n",
            "45:\tlearn: 0.0004632\ttotal: 532ms\tremaining: 1.78s\n",
            "46:\tlearn: 0.0004631\ttotal: 544ms\tremaining: 1.77s\n",
            "47:\tlearn: 0.0004485\ttotal: 557ms\tremaining: 1.76s\n",
            "48:\tlearn: 0.0004254\ttotal: 566ms\tremaining: 1.74s\n",
            "49:\tlearn: 0.0004254\ttotal: 580ms\tremaining: 1.74s\n",
            "50:\tlearn: 0.0004254\ttotal: 591ms\tremaining: 1.73s\n",
            "51:\tlearn: 0.0004254\ttotal: 608ms\tremaining: 1.73s\n",
            "52:\tlearn: 0.0004096\ttotal: 627ms\tremaining: 1.74s\n",
            "53:\tlearn: 0.0003957\ttotal: 638ms\tremaining: 1.72s\n",
            "54:\tlearn: 0.0003957\ttotal: 652ms\tremaining: 1.72s\n",
            "55:\tlearn: 0.0003825\ttotal: 663ms\tremaining: 1.71s\n",
            "56:\tlearn: 0.0003825\ttotal: 677ms\tremaining: 1.7s\n",
            "57:\tlearn: 0.0003825\ttotal: 690ms\tremaining: 1.69s\n",
            "58:\tlearn: 0.0003825\ttotal: 700ms\tremaining: 1.67s\n",
            "59:\tlearn: 0.0003825\ttotal: 712ms\tremaining: 1.66s\n",
            "60:\tlearn: 0.0003660\ttotal: 723ms\tremaining: 1.65s\n",
            "61:\tlearn: 0.0003660\ttotal: 735ms\tremaining: 1.64s\n",
            "62:\tlearn: 0.0003660\ttotal: 748ms\tremaining: 1.63s\n",
            "63:\tlearn: 0.0003659\ttotal: 760ms\tremaining: 1.61s\n",
            "64:\tlearn: 0.0003659\ttotal: 770ms\tremaining: 1.6s\n",
            "65:\tlearn: 0.0003659\ttotal: 780ms\tremaining: 1.58s\n",
            "66:\tlearn: 0.0003659\ttotal: 792ms\tremaining: 1.57s\n",
            "67:\tlearn: 0.0003659\ttotal: 803ms\tremaining: 1.56s\n",
            "68:\tlearn: 0.0003659\ttotal: 820ms\tremaining: 1.56s\n",
            "69:\tlearn: 0.0003659\ttotal: 834ms\tremaining: 1.55s\n",
            "70:\tlearn: 0.0003659\ttotal: 848ms\tremaining: 1.54s\n",
            "71:\tlearn: 0.0003497\ttotal: 858ms\tremaining: 1.52s\n",
            "72:\tlearn: 0.0003496\ttotal: 871ms\tremaining: 1.51s\n",
            "73:\tlearn: 0.0003496\ttotal: 884ms\tremaining: 1.5s\n",
            "74:\tlearn: 0.0003337\ttotal: 893ms\tremaining: 1.49s\n",
            "75:\tlearn: 0.0003337\ttotal: 905ms\tremaining: 1.48s\n",
            "76:\tlearn: 0.0003336\ttotal: 915ms\tremaining: 1.46s\n",
            "77:\tlearn: 0.0003336\ttotal: 926ms\tremaining: 1.45s\n",
            "78:\tlearn: 0.0003336\ttotal: 935ms\tremaining: 1.43s\n",
            "79:\tlearn: 0.0003336\ttotal: 947ms\tremaining: 1.42s\n",
            "80:\tlearn: 0.0003336\ttotal: 959ms\tremaining: 1.41s\n",
            "81:\tlearn: 0.0003335\ttotal: 967ms\tremaining: 1.39s\n",
            "82:\tlearn: 0.0003335\ttotal: 984ms\tremaining: 1.39s\n",
            "83:\tlearn: 0.0003335\ttotal: 1s\tremaining: 1.38s\n",
            "84:\tlearn: 0.0003335\ttotal: 1.01s\tremaining: 1.37s\n",
            "85:\tlearn: 0.0003335\ttotal: 1.03s\tremaining: 1.36s\n",
            "86:\tlearn: 0.0003335\ttotal: 1.04s\tremaining: 1.34s\n",
            "87:\tlearn: 0.0003335\ttotal: 1.04s\tremaining: 1.33s\n",
            "88:\tlearn: 0.0003335\ttotal: 1.06s\tremaining: 1.32s\n",
            "89:\tlearn: 0.0003335\ttotal: 1.07s\tremaining: 1.31s\n",
            "90:\tlearn: 0.0003334\ttotal: 1.08s\tremaining: 1.29s\n",
            "91:\tlearn: 0.0003334\ttotal: 1.09s\tremaining: 1.28s\n",
            "92:\tlearn: 0.0003334\ttotal: 1.1s\tremaining: 1.27s\n",
            "93:\tlearn: 0.0003334\ttotal: 1.12s\tremaining: 1.26s\n",
            "94:\tlearn: 0.0003334\ttotal: 1.13s\tremaining: 1.25s\n",
            "95:\tlearn: 0.0003334\ttotal: 1.14s\tremaining: 1.24s\n",
            "96:\tlearn: 0.0003334\ttotal: 1.15s\tremaining: 1.22s\n",
            "97:\tlearn: 0.0003334\ttotal: 1.16s\tremaining: 1.21s\n",
            "98:\tlearn: 0.0003334\ttotal: 1.18s\tremaining: 1.2s\n",
            "99:\tlearn: 0.0003334\ttotal: 1.18s\tremaining: 1.18s\n",
            "100:\tlearn: 0.0003334\ttotal: 1.2s\tremaining: 1.17s\n",
            "101:\tlearn: 0.0003333\ttotal: 1.21s\tremaining: 1.17s\n",
            "102:\tlearn: 0.0003333\ttotal: 1.23s\tremaining: 1.16s\n",
            "103:\tlearn: 0.0003333\ttotal: 1.24s\tremaining: 1.15s\n",
            "104:\tlearn: 0.0003333\ttotal: 1.26s\tremaining: 1.14s\n",
            "105:\tlearn: 0.0003333\ttotal: 1.27s\tremaining: 1.13s\n",
            "106:\tlearn: 0.0003333\ttotal: 1.29s\tremaining: 1.12s\n",
            "107:\tlearn: 0.0003333\ttotal: 1.3s\tremaining: 1.11s\n",
            "108:\tlearn: 0.0003333\ttotal: 1.31s\tremaining: 1.09s\n",
            "109:\tlearn: 0.0003333\ttotal: 1.32s\tremaining: 1.08s\n",
            "110:\tlearn: 0.0003332\ttotal: 1.34s\tremaining: 1.07s\n",
            "111:\tlearn: 0.0003332\ttotal: 1.35s\tremaining: 1.06s\n",
            "112:\tlearn: 0.0003332\ttotal: 1.36s\tremaining: 1.05s\n",
            "113:\tlearn: 0.0003332\ttotal: 1.38s\tremaining: 1.04s\n",
            "114:\tlearn: 0.0003332\ttotal: 1.39s\tremaining: 1.03s\n",
            "115:\tlearn: 0.0003332\ttotal: 1.4s\tremaining: 1.01s\n",
            "116:\tlearn: 0.0003331\ttotal: 1.41s\tremaining: 1s\n",
            "117:\tlearn: 0.0003331\ttotal: 1.43s\tremaining: 992ms\n",
            "118:\tlearn: 0.0003331\ttotal: 1.44s\tremaining: 981ms\n",
            "119:\tlearn: 0.0003331\ttotal: 1.45s\tremaining: 969ms\n",
            "120:\tlearn: 0.0003331\ttotal: 1.47s\tremaining: 958ms\n",
            "121:\tlearn: 0.0003331\ttotal: 1.48s\tremaining: 947ms\n",
            "122:\tlearn: 0.0003331\ttotal: 1.5s\tremaining: 937ms\n",
            "123:\tlearn: 0.0003331\ttotal: 1.51s\tremaining: 925ms\n",
            "124:\tlearn: 0.0003331\ttotal: 1.52s\tremaining: 913ms\n",
            "125:\tlearn: 0.0003331\ttotal: 1.53s\tremaining: 900ms\n",
            "126:\tlearn: 0.0003330\ttotal: 1.54s\tremaining: 888ms\n",
            "127:\tlearn: 0.0003330\ttotal: 1.56s\tremaining: 876ms\n",
            "128:\tlearn: 0.0003330\ttotal: 1.57s\tremaining: 864ms\n",
            "129:\tlearn: 0.0003330\ttotal: 1.58s\tremaining: 852ms\n",
            "130:\tlearn: 0.0003330\ttotal: 1.59s\tremaining: 839ms\n",
            "131:\tlearn: 0.0003330\ttotal: 1.6s\tremaining: 825ms\n",
            "132:\tlearn: 0.0003330\ttotal: 1.61s\tremaining: 812ms\n",
            "133:\tlearn: 0.0003330\ttotal: 1.62s\tremaining: 799ms\n",
            "134:\tlearn: 0.0003330\ttotal: 1.64s\tremaining: 790ms\n",
            "135:\tlearn: 0.0003330\ttotal: 1.65s\tremaining: 778ms\n",
            "136:\tlearn: 0.0003330\ttotal: 1.66s\tremaining: 765ms\n",
            "137:\tlearn: 0.0003330\ttotal: 1.68s\tremaining: 753ms\n",
            "138:\tlearn: 0.0003329\ttotal: 1.69s\tremaining: 741ms\n",
            "139:\tlearn: 0.0003329\ttotal: 1.7s\tremaining: 730ms\n",
            "140:\tlearn: 0.0003329\ttotal: 1.71s\tremaining: 717ms\n",
            "141:\tlearn: 0.0003329\ttotal: 1.73s\tremaining: 706ms\n",
            "142:\tlearn: 0.0003329\ttotal: 1.74s\tremaining: 695ms\n",
            "143:\tlearn: 0.0003329\ttotal: 1.75s\tremaining: 683ms\n",
            "144:\tlearn: 0.0003329\ttotal: 1.77s\tremaining: 670ms\n",
            "145:\tlearn: 0.0003329\ttotal: 1.78s\tremaining: 659ms\n",
            "146:\tlearn: 0.0003329\ttotal: 1.79s\tremaining: 647ms\n",
            "147:\tlearn: 0.0003329\ttotal: 1.81s\tremaining: 635ms\n",
            "148:\tlearn: 0.0003329\ttotal: 1.82s\tremaining: 623ms\n",
            "149:\tlearn: 0.0003328\ttotal: 1.83s\tremaining: 612ms\n",
            "150:\tlearn: 0.0003328\ttotal: 1.85s\tremaining: 601ms\n",
            "151:\tlearn: 0.0003328\ttotal: 1.86s\tremaining: 589ms\n",
            "152:\tlearn: 0.0003328\ttotal: 1.88s\tremaining: 576ms\n",
            "153:\tlearn: 0.0003328\ttotal: 1.89s\tremaining: 564ms\n",
            "154:\tlearn: 0.0003328\ttotal: 1.9s\tremaining: 551ms\n",
            "155:\tlearn: 0.0003328\ttotal: 1.91s\tremaining: 539ms\n",
            "156:\tlearn: 0.0003328\ttotal: 1.93s\tremaining: 528ms\n",
            "157:\tlearn: 0.0003327\ttotal: 1.94s\tremaining: 516ms\n",
            "158:\tlearn: 0.0003327\ttotal: 1.96s\tremaining: 505ms\n",
            "159:\tlearn: 0.0003327\ttotal: 1.97s\tremaining: 493ms\n",
            "160:\tlearn: 0.0003327\ttotal: 1.98s\tremaining: 481ms\n",
            "161:\tlearn: 0.0003327\ttotal: 2s\tremaining: 468ms\n",
            "162:\tlearn: 0.0003327\ttotal: 2s\tremaining: 455ms\n",
            "163:\tlearn: 0.0003327\ttotal: 2.02s\tremaining: 443ms\n",
            "164:\tlearn: 0.0003327\ttotal: 2.03s\tremaining: 431ms\n",
            "165:\tlearn: 0.0003327\ttotal: 2.05s\tremaining: 419ms\n",
            "166:\tlearn: 0.0003327\ttotal: 2.06s\tremaining: 407ms\n",
            "167:\tlearn: 0.0003327\ttotal: 2.07s\tremaining: 394ms\n",
            "168:\tlearn: 0.0003326\ttotal: 2.08s\tremaining: 382ms\n",
            "169:\tlearn: 0.0003326\ttotal: 2.1s\tremaining: 370ms\n",
            "170:\tlearn: 0.0003326\ttotal: 2.11s\tremaining: 358ms\n",
            "171:\tlearn: 0.0003326\ttotal: 2.12s\tremaining: 346ms\n",
            "172:\tlearn: 0.0003326\ttotal: 2.14s\tremaining: 334ms\n",
            "173:\tlearn: 0.0003326\ttotal: 2.15s\tremaining: 321ms\n",
            "174:\tlearn: 0.0003326\ttotal: 2.16s\tremaining: 308ms\n",
            "175:\tlearn: 0.0003326\ttotal: 2.17s\tremaining: 296ms\n",
            "176:\tlearn: 0.0003326\ttotal: 2.18s\tremaining: 284ms\n",
            "177:\tlearn: 0.0003326\ttotal: 2.2s\tremaining: 271ms\n",
            "178:\tlearn: 0.0003326\ttotal: 2.21s\tremaining: 259ms\n",
            "179:\tlearn: 0.0003326\ttotal: 2.22s\tremaining: 247ms\n",
            "180:\tlearn: 0.0003326\ttotal: 2.23s\tremaining: 234ms\n",
            "181:\tlearn: 0.0003326\ttotal: 2.24s\tremaining: 222ms\n",
            "182:\tlearn: 0.0003326\ttotal: 2.26s\tremaining: 210ms\n",
            "183:\tlearn: 0.0003325\ttotal: 2.27s\tremaining: 198ms\n",
            "184:\tlearn: 0.0003325\ttotal: 2.29s\tremaining: 185ms\n",
            "185:\tlearn: 0.0003325\ttotal: 2.3s\tremaining: 173ms\n",
            "186:\tlearn: 0.0003325\ttotal: 2.31s\tremaining: 161ms\n",
            "187:\tlearn: 0.0003325\ttotal: 2.32s\tremaining: 148ms\n",
            "188:\tlearn: 0.0003325\ttotal: 2.34s\tremaining: 136ms\n",
            "189:\tlearn: 0.0003325\ttotal: 2.35s\tremaining: 124ms\n",
            "190:\tlearn: 0.0003324\ttotal: 2.36s\tremaining: 111ms\n",
            "191:\tlearn: 0.0003324\ttotal: 2.37s\tremaining: 98.7ms\n",
            "192:\tlearn: 0.0003324\ttotal: 2.38s\tremaining: 86.3ms\n",
            "193:\tlearn: 0.0003324\ttotal: 2.39s\tremaining: 73.9ms\n",
            "194:\tlearn: 0.0003324\ttotal: 2.4s\tremaining: 61.5ms\n",
            "195:\tlearn: 0.0003324\ttotal: 2.41s\tremaining: 49.1ms\n",
            "196:\tlearn: 0.0003324\ttotal: 2.42s\tremaining: 36.8ms\n",
            "197:\tlearn: 0.0003324\ttotal: 2.42s\tremaining: 24.5ms\n",
            "198:\tlearn: 0.0003324\ttotal: 2.43s\tremaining: 12.2ms\n",
            "199:\tlearn: 0.0003324\ttotal: 2.44s\tremaining: 0us\n"
          ]
        }
      ]
    },
    {
      "cell_type": "code",
      "metadata": {
        "colab": {
          "base_uri": "https://localhost:8080/",
          "height": 462
        },
        "id": "-52lO44mcyz3",
        "outputId": "e7ba892f-fecb-469f-aa44-34efbcd8df61"
      },
      "source": [
        "from sklearn.metrics import roc_curve\n",
        "\n",
        "train_auc = roc_auc_score(Y_train_origin, Y_train_predicted)\n",
        "print('train_auc: ' + str(train_auc))\n",
        "test_auc = roc_auc_score(Y_test_origin, Y_test_predicted)\n",
        "print('test_auc: ' + str(test_auc))\n",
        "\n",
        "plt.figure(figsize=(10,7))\n",
        "plt.plot(*roc_curve(Y_train_origin, Y_train_predicted)[:2], label='train AUC={:.4f}'.format(train_auc))\n",
        "plt.plot(*roc_curve(Y_test_origin, Y_test_predicted)[:2], label='test AUC={:.4f}'.format(test_auc))\n",
        "legend_box = plt.legend(fontsize='large', framealpha=1).get_frame()\n",
        "legend_box.set_facecolor(\"white\")\n",
        "legend_box.set_edgecolor(\"black\")\n",
        "plt.plot(np.linspace(0,1,100), np.linspace(0,1,100))\n",
        "plt.show()"
      ],
      "execution_count": null,
      "outputs": [
        {
          "output_type": "stream",
          "name": "stdout",
          "text": [
            "train_auc: 1.0\n",
            "test_auc: 1.0\n"
          ]
        },
        {
          "output_type": "display_data",
          "data": {
            "image/png": "[encoded data removed]",
            "text/plain": [
              "<Figure size 720x504 with 1 Axes>"
            ]
          },
          "metadata": {
            "needs_background": "light"
          }
        }
      ]
    },
    {
      "cell_type": "markdown",
      "metadata": {
        "id": "rf4Kjt96EEZU"
      },
      "source": [
        "Выпишите какое лучшее качество и с какими параметрами вам удалось получить"
      ]
    },
    {
      "cell_type": "markdown",
      "metadata": {
        "id": "d2d9GolXEEZV"
      },
      "source": [
        ""
      ]
    },
    {
      "cell_type": "markdown",
      "metadata": {
        "id": "dDMXbvNZEEZV"
      },
      "source": [
        "# Предсказания"
      ]
    },
    {
      "cell_type": "code",
      "metadata": {
        "id": "G_P4wFNaEEZW"
      },
      "source": [
        "best_model = boosting_model # какая-то предыдущая модель"
      ],
      "execution_count": null,
      "outputs": []
    },
    {
      "cell_type": "code",
      "metadata": {
        "id": "FfSufx0CEEZZ",
        "colab": {
          "base_uri": "https://localhost:8080/",
          "height": 358
        },
        "outputId": "d7dbedf1-8fa7-4e29-ccdd-764b94a93ff0"
      },
      "source": [
        "# X_test = pd.read_csv('./test.csv')\n",
        "# submission = pd.read_csv('./submission.csv')\n",
        "#\n",
        "# submission['Churn'] = # best_model.predict_proba(X_test) / best_model.predict(X_test)\n",
        "# submission.to_csv('./my_submission.csv')\n",
        "\n",
        "X_test = pd.read_csv('/data/advanced-dls-spring-2021/test.csv')\n",
        "submission = pd.read_csv('/data/advanced-dls-spring-2021/submission.csv')\n",
        "\n",
        "submission['Churn'] = best_model.predict_proba(X_test) / best_model.predict(X_test)\n",
        "#submission.to_csv('./data/advanced-dls-spring-2021/my_submission.csv')"
      ],
      "execution_count": null,
      "outputs": [
        {
          "output_type": "error",
          "ename": "CatBoostError",
          "evalue": "ignored",
          "traceback": [
            "\u001b[0;31m---------------------------------------------------------------------------\u001b[0m",
            "\u001b[0;31mCatBoostError\u001b[0m                             Traceback (most recent call last)",
            "\u001b[0;32m<ipython-input-146-3d43c9c84b01>\u001b[0m in \u001b[0;36m<module>\u001b[0;34m()\u001b[0m\n\u001b[1;32m      8\u001b[0m \u001b[0msubmission\u001b[0m \u001b[0;34m=\u001b[0m \u001b[0mpd\u001b[0m\u001b[0;34m.\u001b[0m\u001b[0mread_csv\u001b[0m\u001b[0;34m(\u001b[0m\u001b[0;34m'/data/advanced-dls-spring-2021/submission.csv'\u001b[0m\u001b[0;34m)\u001b[0m\u001b[0;34m\u001b[0m\u001b[0;34m\u001b[0m\u001b[0m\n\u001b[1;32m      9\u001b[0m \u001b[0;34m\u001b[0m\u001b[0m\n\u001b[0;32m---> 10\u001b[0;31m \u001b[0msubmission\u001b[0m\u001b[0;34m[\u001b[0m\u001b[0;34m'Churn'\u001b[0m\u001b[0;34m]\u001b[0m \u001b[0;34m=\u001b[0m \u001b[0mbest_model\u001b[0m\u001b[0;34m.\u001b[0m\u001b[0mpredict_proba\u001b[0m\u001b[0;34m(\u001b[0m\u001b[0mX_test\u001b[0m\u001b[0;34m)\u001b[0m \u001b[0;34m/\u001b[0m \u001b[0mbest_model\u001b[0m\u001b[0;34m.\u001b[0m\u001b[0mpredict\u001b[0m\u001b[0;34m(\u001b[0m\u001b[0mX_test\u001b[0m\u001b[0;34m)\u001b[0m\u001b[0;34m\u001b[0m\u001b[0;34m\u001b[0m\u001b[0m\n\u001b[0m\u001b[1;32m     11\u001b[0m \u001b[0;31m#submission.to_csv('./data/advanced-dls-spring-2021/my_submission.csv')\u001b[0m\u001b[0;34m\u001b[0m\u001b[0;34m\u001b[0m\u001b[0;34m\u001b[0m\u001b[0m\n",
            "\u001b[0;32m/usr/local/lib/python3.7/dist-packages/catboost/core.py\u001b[0m in \u001b[0;36mpredict_proba\u001b[0;34m(self, X, ntree_start, ntree_end, thread_count, verbose, task_type)\u001b[0m\n\u001b[1;32m   4809\u001b[0m                 \u001b[0;32mwith\u001b[0m \u001b[0mprobability\u001b[0m \u001b[0;32mfor\u001b[0m \u001b[0mevery\u001b[0m \u001b[0;32mclass\u001b[0m \u001b[0;32mfor\u001b[0m \u001b[0meach\u001b[0m \u001b[0mobject\u001b[0m\u001b[0;34m.\u001b[0m\u001b[0;34m\u001b[0m\u001b[0;34m\u001b[0m\u001b[0m\n\u001b[1;32m   4810\u001b[0m         \"\"\"\n\u001b[0;32m-> 4811\u001b[0;31m         \u001b[0;32mreturn\u001b[0m \u001b[0mself\u001b[0m\u001b[0;34m.\u001b[0m\u001b[0m_predict\u001b[0m\u001b[0;34m(\u001b[0m\u001b[0mX\u001b[0m\u001b[0;34m,\u001b[0m \u001b[0;34m'Probability'\u001b[0m\u001b[0;34m,\u001b[0m \u001b[0mntree_start\u001b[0m\u001b[0;34m,\u001b[0m \u001b[0mntree_end\u001b[0m\u001b[0;34m,\u001b[0m \u001b[0mthread_count\u001b[0m\u001b[0;34m,\u001b[0m \u001b[0mverbose\u001b[0m\u001b[0;34m,\u001b[0m \u001b[0;34m'predict_proba'\u001b[0m\u001b[0;34m,\u001b[0m \u001b[0mtask_type\u001b[0m\u001b[0;34m)\u001b[0m\u001b[0;34m\u001b[0m\u001b[0;34m\u001b[0m\u001b[0m\n\u001b[0m\u001b[1;32m   4812\u001b[0m \u001b[0;34m\u001b[0m\u001b[0m\n\u001b[1;32m   4813\u001b[0m \u001b[0;34m\u001b[0m\u001b[0m\n",
            "\u001b[0;32m/usr/local/lib/python3.7/dist-packages/catboost/core.py\u001b[0m in \u001b[0;36m_predict\u001b[0;34m(self, data, prediction_type, ntree_start, ntree_end, thread_count, verbose, parent_method_name, task_type)\u001b[0m\n\u001b[1;32m   2215\u001b[0m         \u001b[0;32mif\u001b[0m \u001b[0mverbose\u001b[0m \u001b[0;32mis\u001b[0m \u001b[0;32mNone\u001b[0m\u001b[0;34m:\u001b[0m\u001b[0;34m\u001b[0m\u001b[0;34m\u001b[0m\u001b[0m\n\u001b[1;32m   2216\u001b[0m             \u001b[0mverbose\u001b[0m \u001b[0;34m=\u001b[0m \u001b[0;32mFalse\u001b[0m\u001b[0;34m\u001b[0m\u001b[0;34m\u001b[0m\u001b[0m\n\u001b[0;32m-> 2217\u001b[0;31m         \u001b[0mdata\u001b[0m\u001b[0;34m,\u001b[0m \u001b[0mdata_is_single_object\u001b[0m \u001b[0;34m=\u001b[0m \u001b[0mself\u001b[0m\u001b[0;34m.\u001b[0m\u001b[0m_process_predict_input_data\u001b[0m\u001b[0;34m(\u001b[0m\u001b[0mdata\u001b[0m\u001b[0;34m,\u001b[0m \u001b[0mparent_method_name\u001b[0m\u001b[0;34m,\u001b[0m \u001b[0mthread_count\u001b[0m\u001b[0;34m)\u001b[0m\u001b[0;34m\u001b[0m\u001b[0;34m\u001b[0m\u001b[0m\n\u001b[0m\u001b[1;32m   2218\u001b[0m         \u001b[0mself\u001b[0m\u001b[0;34m.\u001b[0m\u001b[0m_validate_prediction_type\u001b[0m\u001b[0;34m(\u001b[0m\u001b[0mprediction_type\u001b[0m\u001b[0;34m)\u001b[0m\u001b[0;34m\u001b[0m\u001b[0;34m\u001b[0m\u001b[0m\n\u001b[1;32m   2219\u001b[0m \u001b[0;34m\u001b[0m\u001b[0m\n",
            "\u001b[0;32m/usr/local/lib/python3.7/dist-packages/catboost/core.py\u001b[0m in \u001b[0;36m_process_predict_input_data\u001b[0;34m(self, data, parent_method_name, thread_count, label)\u001b[0m\n\u001b[1;32m   2201\u001b[0m                 \u001b[0mtext_features\u001b[0m\u001b[0;34m=\u001b[0m\u001b[0mself\u001b[0m\u001b[0;34m.\u001b[0m\u001b[0m_get_text_feature_indices\u001b[0m\u001b[0;34m(\u001b[0m\u001b[0;34m)\u001b[0m \u001b[0;32mif\u001b[0m \u001b[0;32mnot\u001b[0m \u001b[0misinstance\u001b[0m\u001b[0;34m(\u001b[0m\u001b[0mdata\u001b[0m\u001b[0;34m,\u001b[0m \u001b[0mFeaturesData\u001b[0m\u001b[0;34m)\u001b[0m \u001b[0;32melse\u001b[0m \u001b[0;32mNone\u001b[0m\u001b[0;34m,\u001b[0m\u001b[0;34m\u001b[0m\u001b[0;34m\u001b[0m\u001b[0m\n\u001b[1;32m   2202\u001b[0m                 \u001b[0membedding_features\u001b[0m\u001b[0;34m=\u001b[0m\u001b[0mself\u001b[0m\u001b[0;34m.\u001b[0m\u001b[0m_get_embedding_feature_indices\u001b[0m\u001b[0;34m(\u001b[0m\u001b[0;34m)\u001b[0m \u001b[0;32mif\u001b[0m \u001b[0;32mnot\u001b[0m \u001b[0misinstance\u001b[0m\u001b[0;34m(\u001b[0m\u001b[0mdata\u001b[0m\u001b[0;34m,\u001b[0m \u001b[0mFeaturesData\u001b[0m\u001b[0;34m)\u001b[0m \u001b[0;32melse\u001b[0m \u001b[0;32mNone\u001b[0m\u001b[0;34m,\u001b[0m\u001b[0;34m\u001b[0m\u001b[0;34m\u001b[0m\u001b[0m\n\u001b[0;32m-> 2203\u001b[0;31m                 \u001b[0mthread_count\u001b[0m\u001b[0;34m=\u001b[0m\u001b[0mthread_count\u001b[0m\u001b[0;34m\u001b[0m\u001b[0;34m\u001b[0m\u001b[0m\n\u001b[0m\u001b[1;32m   2204\u001b[0m             )\n\u001b[1;32m   2205\u001b[0m         \u001b[0;32mreturn\u001b[0m \u001b[0mdata\u001b[0m\u001b[0;34m,\u001b[0m \u001b[0mis_single_object\u001b[0m\u001b[0;34m\u001b[0m\u001b[0;34m\u001b[0m\u001b[0m\n",
            "\u001b[0;32m/usr/local/lib/python3.7/dist-packages/catboost/core.py\u001b[0m in \u001b[0;36m__init__\u001b[0;34m(self, data, label, cat_features, text_features, embedding_features, column_description, pairs, delimiter, has_header, ignore_csv_quoting, weight, group_id, group_weight, subgroup_id, pairs_weight, baseline, timestamp, feature_names, thread_count, log_cout, log_cerr)\u001b[0m\n\u001b[1;32m    626\u001b[0m                     )\n\u001b[1;32m    627\u001b[0m \u001b[0;34m\u001b[0m\u001b[0m\n\u001b[0;32m--> 628\u001b[0;31m                 \u001b[0mself\u001b[0m\u001b[0;34m.\u001b[0m\u001b[0m_init\u001b[0m\u001b[0;34m(\u001b[0m\u001b[0mdata\u001b[0m\u001b[0;34m,\u001b[0m \u001b[0mlabel\u001b[0m\u001b[0;34m,\u001b[0m \u001b[0mcat_features\u001b[0m\u001b[0;34m,\u001b[0m \u001b[0mtext_features\u001b[0m\u001b[0;34m,\u001b[0m \u001b[0membedding_features\u001b[0m\u001b[0;34m,\u001b[0m \u001b[0mpairs\u001b[0m\u001b[0;34m,\u001b[0m \u001b[0mweight\u001b[0m\u001b[0;34m,\u001b[0m \u001b[0mgroup_id\u001b[0m\u001b[0;34m,\u001b[0m \u001b[0mgroup_weight\u001b[0m\u001b[0;34m,\u001b[0m \u001b[0msubgroup_id\u001b[0m\u001b[0;34m,\u001b[0m \u001b[0mpairs_weight\u001b[0m\u001b[0;34m,\u001b[0m \u001b[0mbaseline\u001b[0m\u001b[0;34m,\u001b[0m \u001b[0mtimestamp\u001b[0m\u001b[0;34m,\u001b[0m \u001b[0mfeature_names\u001b[0m\u001b[0;34m,\u001b[0m \u001b[0mthread_count\u001b[0m\u001b[0;34m)\u001b[0m\u001b[0;34m\u001b[0m\u001b[0;34m\u001b[0m\u001b[0m\n\u001b[0m\u001b[1;32m    629\u001b[0m         \u001b[0msuper\u001b[0m\u001b[0;34m(\u001b[0m\u001b[0mPool\u001b[0m\u001b[0;34m,\u001b[0m \u001b[0mself\u001b[0m\u001b[0;34m)\u001b[0m\u001b[0;34m.\u001b[0m\u001b[0m__init__\u001b[0m\u001b[0;34m(\u001b[0m\u001b[0;34m)\u001b[0m\u001b[0;34m\u001b[0m\u001b[0;34m\u001b[0m\u001b[0m\n\u001b[1;32m    630\u001b[0m \u001b[0;34m\u001b[0m\u001b[0m\n",
            "\u001b[0;32m/usr/local/lib/python3.7/dist-packages/catboost/core.py\u001b[0m in \u001b[0;36m_init\u001b[0;34m(self, data, label, cat_features, text_features, embedding_features, pairs, weight, group_id, group_weight, subgroup_id, pairs_weight, baseline, timestamp, feature_names, thread_count)\u001b[0m\n\u001b[1;32m   1125\u001b[0m             \u001b[0mcat_features\u001b[0m \u001b[0;34m=\u001b[0m \u001b[0m_get_features_indices\u001b[0m\u001b[0;34m(\u001b[0m\u001b[0mcat_features\u001b[0m\u001b[0;34m,\u001b[0m \u001b[0mfeature_names\u001b[0m\u001b[0;34m)\u001b[0m\u001b[0;34m\u001b[0m\u001b[0;34m\u001b[0m\u001b[0m\n\u001b[1;32m   1126\u001b[0m             \u001b[0mself\u001b[0m\u001b[0;34m.\u001b[0m\u001b[0m_check_string_feature_type\u001b[0m\u001b[0;34m(\u001b[0m\u001b[0mcat_features\u001b[0m\u001b[0;34m,\u001b[0m \u001b[0;34m'cat_features'\u001b[0m\u001b[0;34m)\u001b[0m\u001b[0;34m\u001b[0m\u001b[0;34m\u001b[0m\u001b[0m\n\u001b[0;32m-> 1127\u001b[0;31m             \u001b[0mself\u001b[0m\u001b[0;34m.\u001b[0m\u001b[0m_check_string_feature_value\u001b[0m\u001b[0;34m(\u001b[0m\u001b[0mcat_features\u001b[0m\u001b[0;34m,\u001b[0m \u001b[0mfeatures_count\u001b[0m\u001b[0;34m,\u001b[0m \u001b[0;34m'cat_features'\u001b[0m\u001b[0;34m)\u001b[0m\u001b[0;34m\u001b[0m\u001b[0;34m\u001b[0m\u001b[0m\n\u001b[0m\u001b[1;32m   1128\u001b[0m         \u001b[0;32mif\u001b[0m \u001b[0mtext_features\u001b[0m \u001b[0;32mis\u001b[0m \u001b[0;32mnot\u001b[0m \u001b[0;32mNone\u001b[0m\u001b[0;34m:\u001b[0m\u001b[0;34m\u001b[0m\u001b[0;34m\u001b[0m\u001b[0m\n\u001b[1;32m   1129\u001b[0m             \u001b[0mtext_features\u001b[0m \u001b[0;34m=\u001b[0m \u001b[0m_get_features_indices\u001b[0m\u001b[0;34m(\u001b[0m\u001b[0mtext_features\u001b[0m\u001b[0;34m,\u001b[0m \u001b[0mfeature_names\u001b[0m\u001b[0;34m)\u001b[0m\u001b[0;34m\u001b[0m\u001b[0;34m\u001b[0m\u001b[0m\n",
            "\u001b[0;32m/usr/local/lib/python3.7/dist-packages/catboost/core.py\u001b[0m in \u001b[0;36m_check_string_feature_value\u001b[0;34m(self, features, features_count, features_name)\u001b[0m\n\u001b[1;32m    671\u001b[0m                 \u001b[0;32mraise\u001b[0m \u001b[0mCatBoostError\u001b[0m\u001b[0;34m(\u001b[0m\u001b[0;34m\"Invalid {}[{}] = {} value type={}: must be int().\"\u001b[0m\u001b[0;34m.\u001b[0m\u001b[0mformat\u001b[0m\u001b[0;34m(\u001b[0m\u001b[0mfeatures_name\u001b[0m\u001b[0;34m,\u001b[0m \u001b[0mindx\u001b[0m\u001b[0;34m,\u001b[0m \u001b[0mfeature\u001b[0m\u001b[0;34m,\u001b[0m \u001b[0mtype\u001b[0m\u001b[0;34m(\u001b[0m\u001b[0mfeature\u001b[0m\u001b[0;34m)\u001b[0m\u001b[0;34m)\u001b[0m\u001b[0;34m)\u001b[0m\u001b[0;34m\u001b[0m\u001b[0;34m\u001b[0m\u001b[0m\n\u001b[1;32m    672\u001b[0m             \u001b[0;32mif\u001b[0m \u001b[0mfeature\u001b[0m \u001b[0;34m>=\u001b[0m \u001b[0mfeatures_count\u001b[0m\u001b[0;34m:\u001b[0m\u001b[0;34m\u001b[0m\u001b[0;34m\u001b[0m\u001b[0m\n\u001b[0;32m--> 673\u001b[0;31m                 \u001b[0;32mraise\u001b[0m \u001b[0mCatBoostError\u001b[0m\u001b[0;34m(\u001b[0m\u001b[0;34m\"Invalid {}[{}] = {} value: index must be < {}.\"\u001b[0m\u001b[0;34m.\u001b[0m\u001b[0mformat\u001b[0m\u001b[0;34m(\u001b[0m\u001b[0mfeatures_name\u001b[0m\u001b[0;34m,\u001b[0m \u001b[0mindx\u001b[0m\u001b[0;34m,\u001b[0m \u001b[0mfeature\u001b[0m\u001b[0;34m,\u001b[0m \u001b[0mfeatures_count\u001b[0m\u001b[0;34m)\u001b[0m\u001b[0;34m)\u001b[0m\u001b[0;34m\u001b[0m\u001b[0;34m\u001b[0m\u001b[0m\n\u001b[0m\u001b[1;32m    674\u001b[0m \u001b[0;34m\u001b[0m\u001b[0m\n\u001b[1;32m    675\u001b[0m     \u001b[0;32mdef\u001b[0m \u001b[0m_check_pairs_type\u001b[0m\u001b[0;34m(\u001b[0m\u001b[0mself\u001b[0m\u001b[0;34m,\u001b[0m \u001b[0mpairs\u001b[0m\u001b[0;34m)\u001b[0m\u001b[0;34m:\u001b[0m\u001b[0;34m\u001b[0m\u001b[0;34m\u001b[0m\u001b[0m\n",
            "\u001b[0;31mCatBoostError\u001b[0m: Invalid cat_features[16] = 20 value: index must be < 19."
          ]
        }
      ]
    },
    {
      "cell_type": "markdown",
      "metadata": {
        "id": "mkxjbGkVEEZc"
      },
      "source": [
        "# Kaggle (5 баллов)\n",
        "\n",
        "Как выставить баллы:\n",
        "\n",
        "1) 1 >= roc auc > 0.84 это 5 баллов\n",
        "\n",
        "2) 0.84 >= roc auc > 0.7 это 3 балла\n",
        "\n",
        "3) 0.7 >= roc auc > 0.6 это 1 балл\n",
        "\n",
        "4) 0.6 >= roc auc это 0 баллов\n",
        "\n",
        "\n",
        "Для выполнения задания необходимо выполнить следующие шаги.\n",
        "* Зарегистрироваться на платформе [kaggle.com](kaggle.com). Процесс выставления оценок будет проходить при подведении итогового рейтинга. Пожалуйста, укажите во вкладке Team -> Team name свои имя и фамилию в формате Имя_Фамилия (важно, чтобы имя и фамилия совпадали с данными на Stepik).\n",
        "* Обучить модель, получить файл с ответами в формате .csv и сдать его в конкурс. Пробуйте и экспериментируйте. Обратите внимание, что вы можете выполнять до 20 попыток сдачи на kaggle в день.\n",
        "* После окончания соревнования отправить в итоговый ноутбук с решением на степик. \n",
        "* После дедлайна проверьте посылки других участников по критериям. Для этого надо зайти на степик, скачать их ноутбук и проверить скор в соревновании."
      ]
    },
    {
      "cell_type": "code",
      "metadata": {
        "id": "pAaHbpbrNBoU"
      },
      "source": [
        "# 622\n",
        "# Sergey_Startsev\n",
        "# 0.84816\n",
        "# Your submission scored 0.84778, which is not an improvement of your best score. Keep trying!"
      ],
      "execution_count": null,
      "outputs": []
    }
  ]
}